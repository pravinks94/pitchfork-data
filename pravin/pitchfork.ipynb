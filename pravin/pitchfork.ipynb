{
 "cells": [
  {
   "cell_type": "markdown",
   "metadata": {},
   "source": [
    "# Pitchfork"
   ]
  },
  {
   "cell_type": "code",
   "execution_count": 1,
   "metadata": {},
   "outputs": [],
   "source": [
    "import numpy as np\n",
    "import pandas as pd\n",
    "import matplotlib.pyplot as plt\n",
    "%matplotlib inline\n",
    "import seaborn as sns\n",
    "import os\n",
    "import sqlite3"
   ]
  },
  {
   "cell_type": "code",
   "execution_count": 2,
   "metadata": {},
   "outputs": [],
   "source": [
    "os.chdir(r'../Data')"
   ]
  },
  {
   "cell_type": "code",
   "execution_count": 3,
   "metadata": {},
   "outputs": [],
   "source": [
    "conn=sqlite3.connect('./database.sqlite')"
   ]
  },
  {
   "cell_type": "code",
   "execution_count": 4,
   "metadata": {},
   "outputs": [
    {
     "name": "stdout",
     "output_type": "stream",
     "text": [
      "   reviewid          artist\n",
      "0     22703  massive attack\n",
      "1     22721        krallice\n",
      "2     22659    uranium club\n",
      "3     22661         kleenex\n",
      "4     22661         liliput\n",
      "Index(['reviewid', 'artist'], dtype='object')\n"
     ]
    }
   ],
   "source": [
    "print(pd.read_sql_query('select * from artists',conn).head())\n",
    "# print(pd.read_sql_query('select * from artists',conn).columns.values)\n",
    "print(pd.read_sql_query('select * from artists',conn).columns)"
   ]
  },
  {
   "cell_type": "code",
   "execution_count": 5,
   "metadata": {
    "scrolled": true
   },
   "outputs": [
    {
     "name": "stdout",
     "output_type": "stream",
     "text": [
      "   reviewid                                            content\n",
      "0     22703  “Trip-hop” eventually became a ’90s punchline,...\n",
      "1     22721  Eight years, five albums, and two EPs in, the ...\n",
      "2     22659  Minneapolis’ Uranium Club seem to revel in bei...\n",
      "3     22661  Kleenex began with a crash. It transpired one ...\n",
      "4     22725  It is impossible to consider a given release b...\n"
     ]
    }
   ],
   "source": [
    "print(pd.read_sql_query('select * from content',conn).head())"
   ]
  },
  {
   "cell_type": "code",
   "execution_count": 6,
   "metadata": {},
   "outputs": [
    {
     "data": {
      "text/plain": [
       "'Eight years, five albums, and two EPs in, the New York-based outfit Krallice have long since shut up purists about their “hipster black metal.” Their four-man, post-structural assembly line runs at a breakneck pace, taking great care to balance the intricate (Colin Marston and Mick Barr’s interlocking riffs, Lev Weinstein’s head-spinning polyrhythms) with the incendiary (best exemplified by Barr and Nick McMaster’s shared, animalistic vocal duties; the former’s a screaming eagle, the latter a growling hellhound). The quartet frequently capitalize on the element of surprise; Krallice’s last two releases—2015’s Ygg Huur\\xa0and last winter’s Hyperion\\xa0EP—dropped spontaneously, a pair of inter-dimensional rifts masquerading as albums, far from the hum of the hype machine. Early last month, the band opened the portal once more to announce their sixth album Prelapsarian, subsequently released sans fanfare on the Winter Solstice. Upon first glance, Prelapsarian, which the band recorded last summer, may not seem like much. Comprising four tracks and thirty-five minutes, the LP stands just a smidge taller than its predecessor, and sports a similarly dense stylistic template. Fans familiar with the stop-go surges and antiphonal touches of old will undoubtedly appreciate “Transformation Chronicles,” “Conflagration”, and “Lotus Throne,” the album’s staggered, epic triad.Hyperion’s copious lyrical references to mythology, astrophysics, and nihilistic philosophy belied an obsession with the cosmic. Prelapsarian, by contrast, is the product of a band firmly planted on terra firma, racing against the doomsday clock. Post-election anxiety runs rampant, manifested in everything from the title (derived from the age of humanity’s primordial, Edenic innocence, the original “good old days” before Adam and Eve shared a snack and sealed humanity’s grim fate), to the razed-earth panoramas framing the doomy, eight-minute-long dirge “Conflagration.” “Hate Power,” is the the album’s highlight: an odd apex, considering it’s only the second track on the album, and clocking in at less than four minutes, the shortest. Krallice songs usually sprawl out across nine, eleven minutes; in these cramped confines, Barr and McMaster stage an epic battle for control as the band totters between d-beat and death metal. Without their usual song\\xa0length as a cushion, the song feels like a fight to the death in a windowless room. As the song thrashes itself nearly apart, the doomsday-clock ticking desperation is palpable. In their growing catalog, this is a relatively crisp release, a speedy little roller coaster situated alongside the Towers of Terror. But the moment is dense and terrifying enough to make Krallice fans wonder: What could they accomplish with an album of compositions this compact?\\xa0'"
      ]
     },
     "execution_count": 6,
     "metadata": {},
     "output_type": "execute_result"
    }
   ],
   "source": [
    "pd.read_sql_query('select * from content',conn)['content'][1]"
   ]
  },
  {
   "cell_type": "code",
   "execution_count": 7,
   "metadata": {},
   "outputs": [
    {
     "data": {
      "text/html": [
       "<div>\n",
       "<style scoped>\n",
       "    .dataframe tbody tr th:only-of-type {\n",
       "        vertical-align: middle;\n",
       "    }\n",
       "\n",
       "    .dataframe tbody tr th {\n",
       "        vertical-align: top;\n",
       "    }\n",
       "\n",
       "    .dataframe thead th {\n",
       "        text-align: right;\n",
       "    }\n",
       "</style>\n",
       "<table border=\"1\" class=\"dataframe\">\n",
       "  <thead>\n",
       "    <tr style=\"text-align: right;\">\n",
       "      <th></th>\n",
       "      <th>reviewid</th>\n",
       "      <th>genre</th>\n",
       "    </tr>\n",
       "  </thead>\n",
       "  <tbody>\n",
       "    <tr>\n",
       "      <th>0</th>\n",
       "      <td>22703</td>\n",
       "      <td>electronic</td>\n",
       "    </tr>\n",
       "    <tr>\n",
       "      <th>1</th>\n",
       "      <td>22721</td>\n",
       "      <td>metal</td>\n",
       "    </tr>\n",
       "    <tr>\n",
       "      <th>2</th>\n",
       "      <td>22659</td>\n",
       "      <td>rock</td>\n",
       "    </tr>\n",
       "    <tr>\n",
       "      <th>3</th>\n",
       "      <td>22661</td>\n",
       "      <td>rock</td>\n",
       "    </tr>\n",
       "    <tr>\n",
       "      <th>4</th>\n",
       "      <td>22725</td>\n",
       "      <td>electronic</td>\n",
       "    </tr>\n",
       "  </tbody>\n",
       "</table>\n",
       "</div>"
      ],
      "text/plain": [
       "   reviewid       genre\n",
       "0     22703  electronic\n",
       "1     22721       metal\n",
       "2     22659        rock\n",
       "3     22661        rock\n",
       "4     22725  electronic"
      ]
     },
     "execution_count": 7,
     "metadata": {},
     "output_type": "execute_result"
    }
   ],
   "source": [
    "pd.read_sql_query('select * from genres',conn).head()"
   ]
  },
  {
   "cell_type": "code",
   "execution_count": 8,
   "metadata": {},
   "outputs": [
    {
     "data": {
      "text/html": [
       "<div>\n",
       "<style scoped>\n",
       "    .dataframe tbody tr th:only-of-type {\n",
       "        vertical-align: middle;\n",
       "    }\n",
       "\n",
       "    .dataframe tbody tr th {\n",
       "        vertical-align: top;\n",
       "    }\n",
       "\n",
       "    .dataframe thead th {\n",
       "        text-align: right;\n",
       "    }\n",
       "</style>\n",
       "<table border=\"1\" class=\"dataframe\">\n",
       "  <thead>\n",
       "    <tr style=\"text-align: right;\">\n",
       "      <th></th>\n",
       "      <th>reviewid</th>\n",
       "      <th>label</th>\n",
       "    </tr>\n",
       "  </thead>\n",
       "  <tbody>\n",
       "    <tr>\n",
       "      <th>0</th>\n",
       "      <td>22703</td>\n",
       "      <td>virgin</td>\n",
       "    </tr>\n",
       "    <tr>\n",
       "      <th>1</th>\n",
       "      <td>22721</td>\n",
       "      <td>hathenter</td>\n",
       "    </tr>\n",
       "    <tr>\n",
       "      <th>2</th>\n",
       "      <td>22659</td>\n",
       "      <td>static shock</td>\n",
       "    </tr>\n",
       "    <tr>\n",
       "      <th>3</th>\n",
       "      <td>22659</td>\n",
       "      <td>fashionable idiots</td>\n",
       "    </tr>\n",
       "    <tr>\n",
       "      <th>4</th>\n",
       "      <td>22661</td>\n",
       "      <td>kill rock stars</td>\n",
       "    </tr>\n",
       "  </tbody>\n",
       "</table>\n",
       "</div>"
      ],
      "text/plain": [
       "   reviewid               label\n",
       "0     22703              virgin\n",
       "1     22721           hathenter\n",
       "2     22659        static shock\n",
       "3     22659  fashionable idiots\n",
       "4     22661     kill rock stars"
      ]
     },
     "execution_count": 8,
     "metadata": {},
     "output_type": "execute_result"
    }
   ],
   "source": [
    "pd.read_sql_query('select * from labels',conn).head()"
   ]
  },
  {
   "cell_type": "code",
   "execution_count": 9,
   "metadata": {},
   "outputs": [
    {
     "data": {
      "text/html": [
       "<div>\n",
       "<style scoped>\n",
       "    .dataframe tbody tr th:only-of-type {\n",
       "        vertical-align: middle;\n",
       "    }\n",
       "\n",
       "    .dataframe tbody tr th {\n",
       "        vertical-align: top;\n",
       "    }\n",
       "\n",
       "    .dataframe thead th {\n",
       "        text-align: right;\n",
       "    }\n",
       "</style>\n",
       "<table border=\"1\" class=\"dataframe\">\n",
       "  <thead>\n",
       "    <tr style=\"text-align: right;\">\n",
       "      <th></th>\n",
       "      <th>reviewid</th>\n",
       "      <th>title</th>\n",
       "      <th>artist</th>\n",
       "      <th>url</th>\n",
       "      <th>score</th>\n",
       "      <th>best_new_music</th>\n",
       "      <th>author</th>\n",
       "      <th>author_type</th>\n",
       "      <th>pub_date</th>\n",
       "      <th>pub_weekday</th>\n",
       "      <th>pub_day</th>\n",
       "      <th>pub_month</th>\n",
       "      <th>pub_year</th>\n",
       "    </tr>\n",
       "  </thead>\n",
       "  <tbody>\n",
       "    <tr>\n",
       "      <th>0</th>\n",
       "      <td>22703</td>\n",
       "      <td>mezzanine</td>\n",
       "      <td>massive attack</td>\n",
       "      <td>http://pitchfork.com/reviews/albums/22703-mezz...</td>\n",
       "      <td>9.3</td>\n",
       "      <td>0</td>\n",
       "      <td>nate patrin</td>\n",
       "      <td>contributor</td>\n",
       "      <td>2017-01-08</td>\n",
       "      <td>6</td>\n",
       "      <td>8</td>\n",
       "      <td>1</td>\n",
       "      <td>2017</td>\n",
       "    </tr>\n",
       "    <tr>\n",
       "      <th>1</th>\n",
       "      <td>22721</td>\n",
       "      <td>prelapsarian</td>\n",
       "      <td>krallice</td>\n",
       "      <td>http://pitchfork.com/reviews/albums/22721-prel...</td>\n",
       "      <td>7.9</td>\n",
       "      <td>0</td>\n",
       "      <td>zoe camp</td>\n",
       "      <td>contributor</td>\n",
       "      <td>2017-01-07</td>\n",
       "      <td>5</td>\n",
       "      <td>7</td>\n",
       "      <td>1</td>\n",
       "      <td>2017</td>\n",
       "    </tr>\n",
       "    <tr>\n",
       "      <th>2</th>\n",
       "      <td>22659</td>\n",
       "      <td>all of them naturals</td>\n",
       "      <td>uranium club</td>\n",
       "      <td>http://pitchfork.com/reviews/albums/22659-all-...</td>\n",
       "      <td>7.3</td>\n",
       "      <td>0</td>\n",
       "      <td>david glickman</td>\n",
       "      <td>contributor</td>\n",
       "      <td>2017-01-07</td>\n",
       "      <td>5</td>\n",
       "      <td>7</td>\n",
       "      <td>1</td>\n",
       "      <td>2017</td>\n",
       "    </tr>\n",
       "    <tr>\n",
       "      <th>3</th>\n",
       "      <td>22661</td>\n",
       "      <td>first songs</td>\n",
       "      <td>kleenex, liliput</td>\n",
       "      <td>http://pitchfork.com/reviews/albums/22661-firs...</td>\n",
       "      <td>9.0</td>\n",
       "      <td>1</td>\n",
       "      <td>jenn pelly</td>\n",
       "      <td>associate reviews editor</td>\n",
       "      <td>2017-01-06</td>\n",
       "      <td>4</td>\n",
       "      <td>6</td>\n",
       "      <td>1</td>\n",
       "      <td>2017</td>\n",
       "    </tr>\n",
       "    <tr>\n",
       "      <th>4</th>\n",
       "      <td>22725</td>\n",
       "      <td>new start</td>\n",
       "      <td>taso</td>\n",
       "      <td>http://pitchfork.com/reviews/albums/22725-new-...</td>\n",
       "      <td>8.1</td>\n",
       "      <td>0</td>\n",
       "      <td>kevin lozano</td>\n",
       "      <td>tracks coordinator</td>\n",
       "      <td>2017-01-06</td>\n",
       "      <td>4</td>\n",
       "      <td>6</td>\n",
       "      <td>1</td>\n",
       "      <td>2017</td>\n",
       "    </tr>\n",
       "  </tbody>\n",
       "</table>\n",
       "</div>"
      ],
      "text/plain": [
       "   reviewid                 title            artist  \\\n",
       "0     22703             mezzanine    massive attack   \n",
       "1     22721          prelapsarian          krallice   \n",
       "2     22659  all of them naturals      uranium club   \n",
       "3     22661           first songs  kleenex, liliput   \n",
       "4     22725             new start              taso   \n",
       "\n",
       "                                                 url  score  best_new_music  \\\n",
       "0  http://pitchfork.com/reviews/albums/22703-mezz...    9.3               0   \n",
       "1  http://pitchfork.com/reviews/albums/22721-prel...    7.9               0   \n",
       "2  http://pitchfork.com/reviews/albums/22659-all-...    7.3               0   \n",
       "3  http://pitchfork.com/reviews/albums/22661-firs...    9.0               1   \n",
       "4  http://pitchfork.com/reviews/albums/22725-new-...    8.1               0   \n",
       "\n",
       "           author               author_type    pub_date  pub_weekday  pub_day  \\\n",
       "0     nate patrin               contributor  2017-01-08            6        8   \n",
       "1        zoe camp               contributor  2017-01-07            5        7   \n",
       "2  david glickman               contributor  2017-01-07            5        7   \n",
       "3      jenn pelly  associate reviews editor  2017-01-06            4        6   \n",
       "4    kevin lozano        tracks coordinator  2017-01-06            4        6   \n",
       "\n",
       "   pub_month  pub_year  \n",
       "0          1      2017  \n",
       "1          1      2017  \n",
       "2          1      2017  \n",
       "3          1      2017  \n",
       "4          1      2017  "
      ]
     },
     "execution_count": 9,
     "metadata": {},
     "output_type": "execute_result"
    }
   ],
   "source": [
    "reviews=pd.read_sql_query('select * from reviews',conn)\n",
    "reviews.head()"
   ]
  },
  {
   "cell_type": "code",
   "execution_count": 10,
   "metadata": {
    "scrolled": true
   },
   "outputs": [
    {
     "name": "stdout",
     "output_type": "stream",
     "text": [
      "<class 'pandas.core.frame.DataFrame'>\n",
      "RangeIndex: 18393 entries, 0 to 18392\n",
      "Data columns (total 13 columns):\n",
      " #   Column          Non-Null Count  Dtype  \n",
      "---  ------          --------------  -----  \n",
      " 0   reviewid        18393 non-null  int64  \n",
      " 1   title           18393 non-null  object \n",
      " 2   artist          18393 non-null  object \n",
      " 3   url             18393 non-null  object \n",
      " 4   score           18393 non-null  float64\n",
      " 5   best_new_music  18393 non-null  int64  \n",
      " 6   author          18393 non-null  object \n",
      " 7   author_type     14487 non-null  object \n",
      " 8   pub_date        18393 non-null  object \n",
      " 9   pub_weekday     18393 non-null  int64  \n",
      " 10  pub_day         18393 non-null  int64  \n",
      " 11  pub_month       18393 non-null  int64  \n",
      " 12  pub_year        18393 non-null  int64  \n",
      "dtypes: float64(1), int64(6), object(6)\n",
      "memory usage: 1.8+ MB\n"
     ]
    }
   ],
   "source": [
    "reviews.info()"
   ]
  },
  {
   "cell_type": "code",
   "execution_count": 11,
   "metadata": {
    "scrolled": true
   },
   "outputs": [
    {
     "data": {
      "text/plain": [
       "0    17450\n",
       "1      943\n",
       "Name: best_new_music, dtype: int64"
      ]
     },
     "execution_count": 11,
     "metadata": {},
     "output_type": "execute_result"
    }
   ],
   "source": [
    "reviews['best_new_music'].value_counts()"
   ]
  },
  {
   "cell_type": "code",
   "execution_count": 12,
   "metadata": {},
   "outputs": [
    {
     "data": {
      "text/html": [
       "<div>\n",
       "<style scoped>\n",
       "    .dataframe tbody tr th:only-of-type {\n",
       "        vertical-align: middle;\n",
       "    }\n",
       "\n",
       "    .dataframe tbody tr th {\n",
       "        vertical-align: top;\n",
       "    }\n",
       "\n",
       "    .dataframe thead th {\n",
       "        text-align: right;\n",
       "    }\n",
       "</style>\n",
       "<table border=\"1\" class=\"dataframe\">\n",
       "  <thead>\n",
       "    <tr style=\"text-align: right;\">\n",
       "      <th></th>\n",
       "      <th>reviewid</th>\n",
       "      <th>year</th>\n",
       "    </tr>\n",
       "  </thead>\n",
       "  <tbody>\n",
       "    <tr>\n",
       "      <th>0</th>\n",
       "      <td>22703</td>\n",
       "      <td>1998.0</td>\n",
       "    </tr>\n",
       "    <tr>\n",
       "      <th>1</th>\n",
       "      <td>22721</td>\n",
       "      <td>2016.0</td>\n",
       "    </tr>\n",
       "    <tr>\n",
       "      <th>2</th>\n",
       "      <td>22659</td>\n",
       "      <td>2016.0</td>\n",
       "    </tr>\n",
       "    <tr>\n",
       "      <th>3</th>\n",
       "      <td>22661</td>\n",
       "      <td>2016.0</td>\n",
       "    </tr>\n",
       "    <tr>\n",
       "      <th>4</th>\n",
       "      <td>22725</td>\n",
       "      <td>2016.0</td>\n",
       "    </tr>\n",
       "  </tbody>\n",
       "</table>\n",
       "</div>"
      ],
      "text/plain": [
       "   reviewid    year\n",
       "0     22703  1998.0\n",
       "1     22721  2016.0\n",
       "2     22659  2016.0\n",
       "3     22661  2016.0\n",
       "4     22725  2016.0"
      ]
     },
     "execution_count": 12,
     "metadata": {},
     "output_type": "execute_result"
    }
   ],
   "source": [
    "pd.read_sql_query('select * from years',conn).head()"
   ]
  },
  {
   "cell_type": "code",
   "execution_count": 13,
   "metadata": {
    "scrolled": true
   },
   "outputs": [
    {
     "data": {
      "text/html": [
       "<div>\n",
       "<style scoped>\n",
       "    .dataframe tbody tr th:only-of-type {\n",
       "        vertical-align: middle;\n",
       "    }\n",
       "\n",
       "    .dataframe tbody tr th {\n",
       "        vertical-align: top;\n",
       "    }\n",
       "\n",
       "    .dataframe thead th {\n",
       "        text-align: right;\n",
       "    }\n",
       "</style>\n",
       "<table border=\"1\" class=\"dataframe\">\n",
       "  <thead>\n",
       "    <tr style=\"text-align: right;\">\n",
       "      <th></th>\n",
       "      <th>reviewid</th>\n",
       "      <th>title</th>\n",
       "      <th>score</th>\n",
       "      <th>best_new_music</th>\n",
       "      <th>artist</th>\n",
       "      <th>author</th>\n",
       "      <th>author_type</th>\n",
       "      <th>pub_month</th>\n",
       "      <th>pub_year</th>\n",
       "      <th>genre</th>\n",
       "      <th>label</th>\n",
       "    </tr>\n",
       "  </thead>\n",
       "  <tbody>\n",
       "    <tr>\n",
       "      <th>0</th>\n",
       "      <td>22703</td>\n",
       "      <td>mezzanine</td>\n",
       "      <td>9.3</td>\n",
       "      <td>0</td>\n",
       "      <td>massive attack</td>\n",
       "      <td>nate patrin</td>\n",
       "      <td>contributor</td>\n",
       "      <td>1</td>\n",
       "      <td>2017</td>\n",
       "      <td>electronic</td>\n",
       "      <td>virgin</td>\n",
       "    </tr>\n",
       "    <tr>\n",
       "      <th>1</th>\n",
       "      <td>22721</td>\n",
       "      <td>prelapsarian</td>\n",
       "      <td>7.9</td>\n",
       "      <td>0</td>\n",
       "      <td>krallice</td>\n",
       "      <td>zoe camp</td>\n",
       "      <td>contributor</td>\n",
       "      <td>1</td>\n",
       "      <td>2017</td>\n",
       "      <td>metal</td>\n",
       "      <td>hathenter</td>\n",
       "    </tr>\n",
       "    <tr>\n",
       "      <th>2</th>\n",
       "      <td>22659</td>\n",
       "      <td>all of them naturals</td>\n",
       "      <td>7.3</td>\n",
       "      <td>0</td>\n",
       "      <td>uranium club</td>\n",
       "      <td>david glickman</td>\n",
       "      <td>contributor</td>\n",
       "      <td>1</td>\n",
       "      <td>2017</td>\n",
       "      <td>rock</td>\n",
       "      <td>fashionable idiots</td>\n",
       "    </tr>\n",
       "    <tr>\n",
       "      <th>3</th>\n",
       "      <td>22659</td>\n",
       "      <td>all of them naturals</td>\n",
       "      <td>7.3</td>\n",
       "      <td>0</td>\n",
       "      <td>uranium club</td>\n",
       "      <td>david glickman</td>\n",
       "      <td>contributor</td>\n",
       "      <td>1</td>\n",
       "      <td>2017</td>\n",
       "      <td>rock</td>\n",
       "      <td>static shock</td>\n",
       "    </tr>\n",
       "    <tr>\n",
       "      <th>4</th>\n",
       "      <td>22661</td>\n",
       "      <td>first songs</td>\n",
       "      <td>9.0</td>\n",
       "      <td>1</td>\n",
       "      <td>kleenex</td>\n",
       "      <td>jenn pelly</td>\n",
       "      <td>associate reviews editor</td>\n",
       "      <td>1</td>\n",
       "      <td>2017</td>\n",
       "      <td>rock</td>\n",
       "      <td>kill rock stars</td>\n",
       "    </tr>\n",
       "  </tbody>\n",
       "</table>\n",
       "</div>"
      ],
      "text/plain": [
       "   reviewid                 title  score  best_new_music          artist  \\\n",
       "0     22703             mezzanine    9.3               0  massive attack   \n",
       "1     22721          prelapsarian    7.9               0        krallice   \n",
       "2     22659  all of them naturals    7.3               0    uranium club   \n",
       "3     22659  all of them naturals    7.3               0    uranium club   \n",
       "4     22661           first songs    9.0               1         kleenex   \n",
       "\n",
       "           author               author_type  pub_month  pub_year       genre  \\\n",
       "0     nate patrin               contributor          1      2017  electronic   \n",
       "1        zoe camp               contributor          1      2017       metal   \n",
       "2  david glickman               contributor          1      2017        rock   \n",
       "3  david glickman               contributor          1      2017        rock   \n",
       "4      jenn pelly  associate reviews editor          1      2017        rock   \n",
       "\n",
       "                label  \n",
       "0              virgin  \n",
       "1           hathenter  \n",
       "2  fashionable idiots  \n",
       "3        static shock  \n",
       "4     kill rock stars  "
      ]
     },
     "execution_count": 13,
     "metadata": {},
     "output_type": "execute_result"
    }
   ],
   "source": [
    "df=pd.read_sql_query(\"select r.reviewid,r.title,r.score,r.best_new_music,a.artist,r.author,r.author_type,r.pub_month,r.pub_year,g.genre,l.label from reviews r left join labels l on r.reviewid=l.reviewid left join genres g on r.reviewid=g.reviewid join artists a on r.reviewid=a.reviewid\",conn)\n",
    "df.head()"
   ]
  },
  {
   "cell_type": "code",
   "execution_count": 14,
   "metadata": {},
   "outputs": [],
   "source": [
    "conn.close()"
   ]
  },
  {
   "cell_type": "code",
   "execution_count": 15,
   "metadata": {
    "scrolled": true
   },
   "outputs": [],
   "source": [
    "#df=pd.read_sql_query(\"select r.reviewid,r.title,r.artist,r.url,r.score,r.best_new_music,r.author,r.author_type,r.pub_date,r.pub_weekday,r.pub_day,r.pub_month,r.pub_year,y.year from reviews r left join years y on r.reviewid=y.reviewid left join labels l on r.reviewid=l.reviewid left join genres g on r.reviewid=g.reviewid left join content c on r.reviewid=c.reviewid\",conn)\n",
    "#df.head()"
   ]
  },
  {
   "cell_type": "code",
   "execution_count": 16,
   "metadata": {},
   "outputs": [
    {
     "data": {
      "text/plain": [
       "<matplotlib.axes._subplots.AxesSubplot at 0x2758dd96288>"
      ]
     },
     "execution_count": 16,
     "metadata": {},
     "output_type": "execute_result"
    },
    {
     "data": {
      "image/png": "[encoded data removed]",
      "text/plain": [
       "<Figure size 1440x720 with 2 Axes>"
      ]
     },
     "metadata": {
      "needs_background": "light"
     },
     "output_type": "display_data"
    }
   ],
   "source": [
    "import missingno\n",
    "missingno.matrix(df,figsize=(20,10))"
   ]
  },
  {
   "cell_type": "code",
   "execution_count": 17,
   "metadata": {},
   "outputs": [
    {
     "data": {
      "text/plain": [
       "<matplotlib.axes._subplots.AxesSubplot at 0x27585f43188>"
      ]
     },
     "execution_count": 17,
     "metadata": {},
     "output_type": "execute_result"
    },
    {
     "data": {
      "image/png": "[encoded data removed]",
      "text/plain": [
       "<Figure size 432x288 with 2 Axes>"
      ]
     },
     "metadata": {
      "needs_background": "light"
     },
     "output_type": "display_data"
    }
   ],
   "source": [
    "sns.heatmap(df.corr(),annot=True)"
   ]
  },
  {
   "cell_type": "code",
   "execution_count": 18,
   "metadata": {},
   "outputs": [
    {
     "data": {
      "text/plain": [
       "reviewid             0\n",
       "title                0\n",
       "score                0\n",
       "best_new_music       0\n",
       "artist               0\n",
       "author               0\n",
       "author_type       5630\n",
       "pub_month            0\n",
       "pub_year             0\n",
       "genre             2591\n",
       "label               44\n",
       "dtype: int64"
      ]
     },
     "execution_count": 18,
     "metadata": {},
     "output_type": "execute_result"
    }
   ],
   "source": [
    "df.isnull().sum()"
   ]
  },
  {
   "cell_type": "code",
   "execution_count": 19,
   "metadata": {},
   "outputs": [],
   "source": [
    "df=df.drop(['reviewid','title'],axis=1)"
   ]
  },
  {
   "cell_type": "code",
   "execution_count": 20,
   "metadata": {
    "scrolled": false
   },
   "outputs": [
    {
     "data": {
      "text/html": [
       "<div>\n",
       "<style scoped>\n",
       "    .dataframe tbody tr th:only-of-type {\n",
       "        vertical-align: middle;\n",
       "    }\n",
       "\n",
       "    .dataframe tbody tr th {\n",
       "        vertical-align: top;\n",
       "    }\n",
       "\n",
       "    .dataframe thead th {\n",
       "        text-align: right;\n",
       "    }\n",
       "</style>\n",
       "<table border=\"1\" class=\"dataframe\">\n",
       "  <thead>\n",
       "    <tr style=\"text-align: right;\">\n",
       "      <th></th>\n",
       "      <th>score</th>\n",
       "      <th>best_new_music</th>\n",
       "      <th>artist</th>\n",
       "      <th>author</th>\n",
       "      <th>author_type</th>\n",
       "      <th>pub_month</th>\n",
       "      <th>pub_year</th>\n",
       "      <th>genre</th>\n",
       "      <th>label</th>\n",
       "    </tr>\n",
       "  </thead>\n",
       "  <tbody>\n",
       "    <tr>\n",
       "      <th>0</th>\n",
       "      <td>9.3</td>\n",
       "      <td>0</td>\n",
       "      <td>massive attack</td>\n",
       "      <td>nate patrin</td>\n",
       "      <td>contributor</td>\n",
       "      <td>1</td>\n",
       "      <td>2017</td>\n",
       "      <td>electronic</td>\n",
       "      <td>virgin</td>\n",
       "    </tr>\n",
       "    <tr>\n",
       "      <th>1</th>\n",
       "      <td>7.9</td>\n",
       "      <td>0</td>\n",
       "      <td>krallice</td>\n",
       "      <td>zoe camp</td>\n",
       "      <td>contributor</td>\n",
       "      <td>1</td>\n",
       "      <td>2017</td>\n",
       "      <td>metal</td>\n",
       "      <td>hathenter</td>\n",
       "    </tr>\n",
       "    <tr>\n",
       "      <th>2</th>\n",
       "      <td>7.3</td>\n",
       "      <td>0</td>\n",
       "      <td>uranium club</td>\n",
       "      <td>david glickman</td>\n",
       "      <td>contributor</td>\n",
       "      <td>1</td>\n",
       "      <td>2017</td>\n",
       "      <td>rock</td>\n",
       "      <td>fashionable idiots</td>\n",
       "    </tr>\n",
       "    <tr>\n",
       "      <th>3</th>\n",
       "      <td>7.3</td>\n",
       "      <td>0</td>\n",
       "      <td>uranium club</td>\n",
       "      <td>david glickman</td>\n",
       "      <td>contributor</td>\n",
       "      <td>1</td>\n",
       "      <td>2017</td>\n",
       "      <td>rock</td>\n",
       "      <td>static shock</td>\n",
       "    </tr>\n",
       "    <tr>\n",
       "      <th>4</th>\n",
       "      <td>9.0</td>\n",
       "      <td>1</td>\n",
       "      <td>kleenex</td>\n",
       "      <td>jenn pelly</td>\n",
       "      <td>associate reviews editor</td>\n",
       "      <td>1</td>\n",
       "      <td>2017</td>\n",
       "      <td>rock</td>\n",
       "      <td>kill rock stars</td>\n",
       "    </tr>\n",
       "  </tbody>\n",
       "</table>\n",
       "</div>"
      ],
      "text/plain": [
       "   score  best_new_music          artist          author  \\\n",
       "0    9.3               0  massive attack     nate patrin   \n",
       "1    7.9               0        krallice        zoe camp   \n",
       "2    7.3               0    uranium club  david glickman   \n",
       "3    7.3               0    uranium club  david glickman   \n",
       "4    9.0               1         kleenex      jenn pelly   \n",
       "\n",
       "                author_type  pub_month  pub_year       genre  \\\n",
       "0               contributor          1      2017  electronic   \n",
       "1               contributor          1      2017       metal   \n",
       "2               contributor          1      2017        rock   \n",
       "3               contributor          1      2017        rock   \n",
       "4  associate reviews editor          1      2017        rock   \n",
       "\n",
       "                label  \n",
       "0              virgin  \n",
       "1           hathenter  \n",
       "2  fashionable idiots  \n",
       "3        static shock  \n",
       "4     kill rock stars  "
      ]
     },
     "execution_count": 20,
     "metadata": {},
     "output_type": "execute_result"
    }
   ],
   "source": [
    "df.head()"
   ]
  },
  {
   "cell_type": "markdown",
   "metadata": {},
   "source": [
    "# Features"
   ]
  },
  {
   "cell_type": "markdown",
   "metadata": {},
   "source": [
    "## Artists"
   ]
  },
  {
   "cell_type": "code",
   "execution_count": 21,
   "metadata": {
    "scrolled": true
   },
   "outputs": [
    {
     "data": {
      "text/plain": [
       "various artists                 785\n",
       "xiu xiu                          42\n",
       "prince                           40\n",
       "animal collective                36\n",
       "deerhoof                         36\n",
       "                               ... \n",
       "fins                              1\n",
       "john wizards                      1\n",
       "cullen omori                      1\n",
       "zmrzlina                          1\n",
       "alan singley & pants machine      1\n",
       "Name: artist, Length: 8633, dtype: int64"
      ]
     },
     "execution_count": 21,
     "metadata": {},
     "output_type": "execute_result"
    }
   ],
   "source": [
    "df['artist'].value_counts()"
   ]
  },
  {
   "cell_type": "markdown",
   "metadata": {},
   "source": [
    "## Score"
   ]
  },
  {
   "cell_type": "code",
   "execution_count": 22,
   "metadata": {
    "scrolled": false
   },
   "outputs": [
    {
     "data": {
      "text/plain": [
       "0        9.3\n",
       "1        7.9\n",
       "2        7.3\n",
       "3        7.3\n",
       "4        9.0\n",
       "        ... \n",
       "25801    6.3\n",
       "25802    7.2\n",
       "25803    7.2\n",
       "25804    7.2\n",
       "25805    6.5\n",
       "Name: score, Length: 25806, dtype: float64"
      ]
     },
     "execution_count": 22,
     "metadata": {},
     "output_type": "execute_result"
    }
   ],
   "source": [
    "df['score']"
   ]
  },
  {
   "cell_type": "code",
   "execution_count": 23,
   "metadata": {
    "scrolled": false
   },
   "outputs": [
    {
     "data": {
      "text/plain": [
       "<matplotlib.axes._subplots.AxesSubplot at 0x2758edd7888>"
      ]
     },
     "execution_count": 23,
     "metadata": {},
     "output_type": "execute_result"
    },
    {
     "data": {
      "image/png": "[encoded data removed]",
      "text/plain": [
       "<Figure size 432x288 with 1 Axes>"
      ]
     },
     "metadata": {
      "needs_background": "light"
     },
     "output_type": "display_data"
    }
   ],
   "source": [
    "sns.distplot(df['score'],bins=10)"
   ]
  },
  {
   "cell_type": "code",
   "execution_count": 24,
   "metadata": {},
   "outputs": [
    {
     "data": {
      "image/png": "[encoded data removed]",
      "text/plain": [
       "<Figure size 432x288 with 1 Axes>"
      ]
     },
     "metadata": {
      "needs_background": "light"
     },
     "output_type": "display_data"
    }
   ],
   "source": [
    "sns.distplot(a=df.score,bins=10,hist=True,kde=True,rug=True);\n"
   ]
  },
  {
   "cell_type": "code",
   "execution_count": 25,
   "metadata": {
    "scrolled": true
   },
   "outputs": [
    {
     "data": {
      "text/plain": [
       "(7.0, 8.0]       10104\n",
       "(6.0, 7.0]        6474\n",
       "(8.0, 9.0]        3759\n",
       "(5.0, 6.0]        2818\n",
       "(4.0, 5.0]        1147\n",
       "(3.0, 4.0]         568\n",
       "(9.0, 10.0]        519\n",
       "(2.0, 3.0]         260\n",
       "(1.0, 2.0]         105\n",
       "(-0.011, 1.0]       52\n",
       "Name: score, dtype: int64"
      ]
     },
     "execution_count": 25,
     "metadata": {},
     "output_type": "execute_result"
    }
   ],
   "source": [
    "df['score'].value_counts(bins=10)"
   ]
  },
  {
   "cell_type": "code",
   "execution_count": 26,
   "metadata": {
    "scrolled": true
   },
   "outputs": [
    {
     "data": {
      "text/plain": [
       "<matplotlib.axes._subplots.AxesSubplot at 0x27590714f88>"
      ]
     },
     "execution_count": 26,
     "metadata": {},
     "output_type": "execute_result"
    },
    {
     "data": {
      "image/png": "[encoded data removed]",
      "text/plain": [
       "<Figure size 432x288 with 1 Axes>"
      ]
     },
     "metadata": {
      "needs_background": "light"
     },
     "output_type": "display_data"
    }
   ],
   "source": [
    "df['score'].value_counts(bins=10,ascending=True).plot(kind='bar',)"
   ]
  },
  {
   "cell_type": "code",
   "execution_count": 27,
   "metadata": {},
   "outputs": [],
   "source": [
    "q1=df['score'].quantile(0.25)\n",
    "q3=df['score'].quantile(0.75)\n",
    "iqr=q3-q1\n",
    "high=q3+(1.5*iqr)\n",
    "low=q1-(1.5*iqr)\n",
    "df.drop(df[df['score']>high].index,inplace=True)\n",
    "df.drop(df[df['score']<low].index,inplace=True)"
   ]
  },
  {
   "cell_type": "code",
   "execution_count": 28,
   "metadata": {},
   "outputs": [
    {
     "data": {
      "image/png": "[encoded data removed]",
      "text/plain": [
       "<Figure size 432x288 with 1 Axes>"
      ]
     },
     "metadata": {
      "needs_background": "light"
     },
     "output_type": "display_data"
    }
   ],
   "source": [
    "sns.distplot(a=df.score,bins=10,hist=True,kde=True,rug=True);"
   ]
  },
  {
   "cell_type": "markdown",
   "metadata": {},
   "source": [
    "## Best New Music"
   ]
  },
  {
   "cell_type": "code",
   "execution_count": 29,
   "metadata": {},
   "outputs": [
    {
     "data": {
      "text/plain": [
       "0    23185\n",
       "1     1328\n",
       "Name: best_new_music, dtype: int64"
      ]
     },
     "execution_count": 29,
     "metadata": {},
     "output_type": "execute_result"
    }
   ],
   "source": [
    "df['best_new_music'].value_counts()"
   ]
  },
  {
   "cell_type": "code",
   "execution_count": 30,
   "metadata": {
    "scrolled": true
   },
   "outputs": [
    {
     "data": {
      "image/png": "[encoded data removed]",
      "text/plain": [
       "<Figure size 432x288 with 1 Axes>"
      ]
     },
     "metadata": {
      "needs_background": "light"
     },
     "output_type": "display_data"
    }
   ],
   "source": [
    "sns.distplot(df[df['best_new_music']==0]['score'])\n",
    "sns.distplot(df[df['best_new_music']==1]['score'])\n",
    "plt.legend(labels=['Not Won','Won'])\n",
    "plt.show()"
   ]
  },
  {
   "cell_type": "code",
   "execution_count": 31,
   "metadata": {
    "scrolled": true
   },
   "outputs": [
    {
     "data": {
      "text/plain": [
       "<matplotlib.axes._subplots.AxesSubplot at 0x2758f6ec988>"
      ]
     },
     "execution_count": 31,
     "metadata": {},
     "output_type": "execute_result"
    },
    {
     "data": {
      "image/png": "[encoded data removed]",
      "text/plain": [
       "<Figure size 432x288 with 1 Axes>"
      ]
     },
     "metadata": {
      "needs_background": "light"
     },
     "output_type": "display_data"
    }
   ],
   "source": [
    "plt.figure()\n",
    "sns.boxplot(y='score',x='best_new_music',hue='best_new_music',data=df)"
   ]
  },
  {
   "cell_type": "code",
   "execution_count": 32,
   "metadata": {
    "scrolled": true
   },
   "outputs": [
    {
     "data": {
      "text/html": [
       "<div>\n",
       "<style scoped>\n",
       "    .dataframe tbody tr th:only-of-type {\n",
       "        vertical-align: middle;\n",
       "    }\n",
       "\n",
       "    .dataframe tbody tr th {\n",
       "        vertical-align: top;\n",
       "    }\n",
       "\n",
       "    .dataframe thead th {\n",
       "        text-align: right;\n",
       "    }\n",
       "</style>\n",
       "<table border=\"1\" class=\"dataframe\">\n",
       "  <thead>\n",
       "    <tr style=\"text-align: right;\">\n",
       "      <th></th>\n",
       "      <th>score</th>\n",
       "      <th>best_new_music</th>\n",
       "      <th>artist</th>\n",
       "      <th>author</th>\n",
       "      <th>author_type</th>\n",
       "      <th>pub_month</th>\n",
       "      <th>pub_year</th>\n",
       "      <th>genre</th>\n",
       "      <th>label</th>\n",
       "    </tr>\n",
       "  </thead>\n",
       "  <tbody>\n",
       "  </tbody>\n",
       "</table>\n",
       "</div>"
      ],
      "text/plain": [
       "Empty DataFrame\n",
       "Columns: [score, best_new_music, artist, author, author_type, pub_month, pub_year, genre, label]\n",
       "Index: []"
      ]
     },
     "execution_count": 32,
     "metadata": {},
     "output_type": "execute_result"
    }
   ],
   "source": [
    "df[(df['score']<4)&(df['best_new_music']==1)]"
   ]
  },
  {
   "cell_type": "markdown",
   "metadata": {},
   "source": [
    "## Author"
   ]
  },
  {
   "cell_type": "code",
   "execution_count": 33,
   "metadata": {
    "scrolled": true
   },
   "outputs": [
    {
     "data": {
      "text/plain": [
       "joe tangari                                    1098\n",
       "ian cohen                                       851\n",
       "stephen m. deusner                              821\n",
       "brian howe                                      699\n",
       "mark richardson                                 682\n",
       "                                               ... \n",
       "noah sutcliffe                                    1\n",
       "sean t. collins                                   1\n",
       "casey rea                                         1\n",
       "savy reyes-kulkarni                               1\n",
       "andy beta, brandon stosuy & mark richardson       1\n",
       "Name: author, Length: 423, dtype: int64"
      ]
     },
     "execution_count": 33,
     "metadata": {},
     "output_type": "execute_result"
    }
   ],
   "source": [
    "df['author'].value_counts(dropna=False)"
   ]
  },
  {
   "cell_type": "code",
   "execution_count": 34,
   "metadata": {
    "scrolled": false
   },
   "outputs": [
    {
     "data": {
      "text/plain": [
       "joe tangari           809\n",
       "mark richardson       487\n",
       "stephen m. deusner    475\n",
       "brian howe            413\n",
       "marc masters          375\n",
       "                     ... \n",
       "andy o' connor          1\n",
       "jonny pietin            1\n",
       "yancey strickler        1\n",
       "tayler montague         1\n",
       "sean fennessy           1\n",
       "Name: author, Length: 386, dtype: int64"
      ]
     },
     "execution_count": 34,
     "metadata": {},
     "output_type": "execute_result"
    }
   ],
   "source": [
    "df[df['score']>7]['author'].value_counts()"
   ]
  },
  {
   "cell_type": "code",
   "execution_count": 35,
   "metadata": {},
   "outputs": [],
   "source": [
    "df=df.drop(['author'],axis=1)"
   ]
  },
  {
   "cell_type": "markdown",
   "metadata": {},
   "source": [
    "## Author Type"
   ]
  },
  {
   "cell_type": "code",
   "execution_count": 36,
   "metadata": {
    "scrolled": true
   },
   "outputs": [
    {
     "data": {
      "text/plain": [
       "contributor                  16483\n",
       "NaN                           5259\n",
       "senior editor                  681\n",
       "executive editor               680\n",
       "senior staff writer            572\n",
       "contributing editor            241\n",
       "deputy news editor             131\n",
       "associate staff writer         129\n",
       "editor-in-chief                127\n",
       "associate reviews editor        59\n",
       "tracks coordinator              56\n",
       "associate editor                54\n",
       "assistant editor                19\n",
       "associate features editor       16\n",
       "news director                    3\n",
       "managing editor                  3\n",
       "Name: author_type, dtype: int64"
      ]
     },
     "execution_count": 36,
     "metadata": {},
     "output_type": "execute_result"
    }
   ],
   "source": [
    "df['author_type'].value_counts(dropna=False)"
   ]
  },
  {
   "cell_type": "code",
   "execution_count": 37,
   "metadata": {
    "scrolled": false
   },
   "outputs": [
    {
     "data": {
      "text/plain": [
       "<matplotlib.axes._subplots.AxesSubplot at 0x2758f8c8408>"
      ]
     },
     "execution_count": 37,
     "metadata": {},
     "output_type": "execute_result"
    },
    {
     "data": {
      "image/png": "[encoded data removed]",
      "text/plain": [
       "<Figure size 2160x576 with 1 Axes>"
      ]
     },
     "metadata": {
      "needs_background": "light"
     },
     "output_type": "display_data"
    }
   ],
   "source": [
    "plt.figure(figsize=(30,8))\n",
    "sns.boxplot(x='author_type',data=df,y='score')"
   ]
  },
  {
   "cell_type": "code",
   "execution_count": 39,
   "metadata": {},
   "outputs": [],
   "source": [
    "df['author_type']=df['author_type'].fillna('None')"
   ]
  },
  {
   "cell_type": "code",
   "execution_count": 40,
   "metadata": {
    "scrolled": false
   },
   "outputs": [
    {
     "data": {
      "text/plain": [
       "score                0\n",
       "best_new_music       0\n",
       "artist               0\n",
       "author_type          0\n",
       "pub_month            0\n",
       "pub_year             0\n",
       "genre             2490\n",
       "label               44\n",
       "dtype: int64"
      ]
     },
     "execution_count": 40,
     "metadata": {},
     "output_type": "execute_result"
    }
   ],
   "source": [
    "df.isnull().sum()"
   ]
  },
  {
   "cell_type": "markdown",
   "metadata": {},
   "source": [
    "## Date\n",
    "### pub_month,pub_year"
   ]
  },
  {
   "cell_type": "code",
   "execution_count": 41,
   "metadata": {
    "scrolled": false
   },
   "outputs": [
    {
     "data": {
      "text/plain": [
       "2011    1727\n",
       "2006    1697\n",
       "2010    1654\n",
       "2016    1635\n",
       "2007    1627\n",
       "2008    1603\n",
       "2012    1577\n",
       "2013    1574\n",
       "2005    1553\n",
       "2004    1533\n",
       "2014    1522\n",
       "2009    1519\n",
       "2003    1389\n",
       "2015    1332\n",
       "2002    1170\n",
       "2001     588\n",
       "2000     473\n",
       "1999     319\n",
       "2017      21\n",
       "Name: pub_year, dtype: int64"
      ]
     },
     "execution_count": 41,
     "metadata": {},
     "output_type": "execute_result"
    }
   ],
   "source": [
    "df['pub_year'].value_counts()"
   ]
  },
  {
   "cell_type": "code",
   "execution_count": 42,
   "metadata": {
    "scrolled": false
   },
   "outputs": [
    {
     "data": {
      "text/plain": [
       "pub_year\n",
       "2003    8.680769\n",
       "2004    8.691803\n",
       "2005    8.698305\n",
       "2006    8.668750\n",
       "2007    8.658571\n",
       "2008    8.596667\n",
       "2009    8.599153\n",
       "2010    8.658678\n",
       "2011    8.652308\n",
       "2012    8.670085\n",
       "2013    8.588430\n",
       "2014    8.652632\n",
       "2015    8.598980\n",
       "2016    8.486719\n",
       "2017    8.920000\n",
       "Name: score, dtype: float64"
      ]
     },
     "execution_count": 42,
     "metadata": {},
     "output_type": "execute_result"
    }
   ],
   "source": [
    "df[df['best_new_music']==1].groupby(by='pub_year').mean()['score']"
   ]
  },
  {
   "cell_type": "code",
   "execution_count": 43,
   "metadata": {},
   "outputs": [
    {
     "data": {
      "text/html": [
       "<div>\n",
       "<style scoped>\n",
       "    .dataframe tbody tr th:only-of-type {\n",
       "        vertical-align: middle;\n",
       "    }\n",
       "\n",
       "    .dataframe tbody tr th {\n",
       "        vertical-align: top;\n",
       "    }\n",
       "\n",
       "    .dataframe thead th {\n",
       "        text-align: right;\n",
       "    }\n",
       "</style>\n",
       "<table border=\"1\" class=\"dataframe\">\n",
       "  <thead>\n",
       "    <tr style=\"text-align: right;\">\n",
       "      <th>pub_year</th>\n",
       "      <th>1999</th>\n",
       "      <th>2000</th>\n",
       "      <th>2001</th>\n",
       "      <th>2002</th>\n",
       "      <th>2003</th>\n",
       "      <th>2004</th>\n",
       "      <th>2005</th>\n",
       "      <th>2006</th>\n",
       "      <th>2007</th>\n",
       "      <th>2008</th>\n",
       "      <th>2009</th>\n",
       "      <th>2010</th>\n",
       "      <th>2011</th>\n",
       "      <th>2012</th>\n",
       "      <th>2013</th>\n",
       "      <th>2014</th>\n",
       "      <th>2015</th>\n",
       "      <th>2016</th>\n",
       "      <th>2017</th>\n",
       "    </tr>\n",
       "  </thead>\n",
       "  <tbody>\n",
       "    <tr>\n",
       "      <th>score</th>\n",
       "      <td>7.156113</td>\n",
       "      <td>7.280550</td>\n",
       "      <td>7.394898</td>\n",
       "      <td>7.233162</td>\n",
       "      <td>7.304968</td>\n",
       "      <td>7.369602</td>\n",
       "      <td>7.289375</td>\n",
       "      <td>7.170301</td>\n",
       "      <td>7.092440</td>\n",
       "      <td>7.090206</td>\n",
       "      <td>6.946017</td>\n",
       "      <td>7.101511</td>\n",
       "      <td>7.119861</td>\n",
       "      <td>7.065187</td>\n",
       "      <td>7.041487</td>\n",
       "      <td>7.148292</td>\n",
       "      <td>7.154505</td>\n",
       "      <td>7.249786</td>\n",
       "      <td>7.780952</td>\n",
       "    </tr>\n",
       "    <tr>\n",
       "      <th>best_new_music</th>\n",
       "      <td>0.000000</td>\n",
       "      <td>0.000000</td>\n",
       "      <td>0.000000</td>\n",
       "      <td>0.000000</td>\n",
       "      <td>0.056156</td>\n",
       "      <td>0.039791</td>\n",
       "      <td>0.037991</td>\n",
       "      <td>0.028285</td>\n",
       "      <td>0.043024</td>\n",
       "      <td>0.037430</td>\n",
       "      <td>0.077683</td>\n",
       "      <td>0.073156</td>\n",
       "      <td>0.075275</td>\n",
       "      <td>0.074192</td>\n",
       "      <td>0.076874</td>\n",
       "      <td>0.074901</td>\n",
       "      <td>0.073574</td>\n",
       "      <td>0.078287</td>\n",
       "      <td>0.238095</td>\n",
       "    </tr>\n",
       "    <tr>\n",
       "      <th>pub_month</th>\n",
       "      <td>6.357367</td>\n",
       "      <td>6.408034</td>\n",
       "      <td>8.061224</td>\n",
       "      <td>6.255556</td>\n",
       "      <td>6.268539</td>\n",
       "      <td>6.390085</td>\n",
       "      <td>6.397296</td>\n",
       "      <td>6.416028</td>\n",
       "      <td>6.214505</td>\n",
       "      <td>5.976294</td>\n",
       "      <td>6.157999</td>\n",
       "      <td>6.237001</td>\n",
       "      <td>5.985524</td>\n",
       "      <td>6.029803</td>\n",
       "      <td>6.202668</td>\n",
       "      <td>6.316032</td>\n",
       "      <td>6.317568</td>\n",
       "      <td>6.412232</td>\n",
       "      <td>1.000000</td>\n",
       "    </tr>\n",
       "  </tbody>\n",
       "</table>\n",
       "</div>"
      ],
      "text/plain": [
       "pub_year            1999      2000      2001      2002      2003      2004  \\\n",
       "score           7.156113  7.280550  7.394898  7.233162  7.304968  7.369602   \n",
       "best_new_music  0.000000  0.000000  0.000000  0.000000  0.056156  0.039791   \n",
       "pub_month       6.357367  6.408034  8.061224  6.255556  6.268539  6.390085   \n",
       "\n",
       "pub_year            2005      2006      2007      2008      2009      2010  \\\n",
       "score           7.289375  7.170301  7.092440  7.090206  6.946017  7.101511   \n",
       "best_new_music  0.037991  0.028285  0.043024  0.037430  0.077683  0.073156   \n",
       "pub_month       6.397296  6.416028  6.214505  5.976294  6.157999  6.237001   \n",
       "\n",
       "pub_year            2011      2012      2013      2014      2015      2016  \\\n",
       "score           7.119861  7.065187  7.041487  7.148292  7.154505  7.249786   \n",
       "best_new_music  0.075275  0.074192  0.076874  0.074901  0.073574  0.078287   \n",
       "pub_month       5.985524  6.029803  6.202668  6.316032  6.317568  6.412232   \n",
       "\n",
       "pub_year            2017  \n",
       "score           7.780952  \n",
       "best_new_music  0.238095  \n",
       "pub_month       1.000000  "
      ]
     },
     "execution_count": 43,
     "metadata": {},
     "output_type": "execute_result"
    }
   ],
   "source": [
    "df.groupby(by=['pub_year']).mean().T"
   ]
  },
  {
   "cell_type": "code",
   "execution_count": 44,
   "metadata": {
    "scrolled": false
   },
   "outputs": [
    {
     "data": {
      "image/png": "[encoded data removed]",
      "text/plain": [
       "<Figure size 1008x360 with 1 Axes>"
      ]
     },
     "metadata": {
      "needs_background": "light"
     },
     "output_type": "display_data"
    }
   ],
   "source": [
    "plt.figure(figsize=(14,5))\n",
    "sns.lineplot(y=df[df['best_new_music']==0].groupby(by='pub_year').mean()['score'], x=df[df['best_new_music']==0].groupby(by='pub_year').mean().index)\n",
    "sns.lineplot(y=df[df['best_new_music']==1].groupby(by='pub_year').mean()['score'], x=df[df['best_new_music']==1].groupby(by='pub_year').mean().index)\n",
    "plt.legend(labels=['Not Won','Won'])\n",
    "plt.show()"
   ]
  },
  {
   "cell_type": "markdown",
   "metadata": {},
   "source": [
    "## Inference\n",
    "    1.Best New Music awards started from 2003\n",
    "    2. Removing values from 2017 since it seems that data has been taken from early 2017"
   ]
  },
  {
   "cell_type": "code",
   "execution_count": 45,
   "metadata": {},
   "outputs": [],
   "source": [
    "df=df[(df['pub_year']<2017)]"
   ]
  },
  {
   "cell_type": "markdown",
   "metadata": {},
   "source": [
    "### pub_month"
   ]
  },
  {
   "cell_type": "code",
   "execution_count": 46,
   "metadata": {
    "scrolled": true
   },
   "outputs": [
    {
     "data": {
      "text/plain": [
       "10    2381\n",
       "3     2262\n",
       "4     2258\n",
       "6     2202\n",
       "5     2180\n",
       "9     2126\n",
       "2     2033\n",
       "11    2018\n",
       "1     1983\n",
       "8     1982\n",
       "7     1971\n",
       "12    1096\n",
       "Name: pub_month, dtype: int64"
      ]
     },
     "execution_count": 46,
     "metadata": {},
     "output_type": "execute_result"
    }
   ],
   "source": [
    "df['pub_month'].value_counts()"
   ]
  },
  {
   "cell_type": "markdown",
   "metadata": {},
   "source": [
    "## Genre"
   ]
  },
  {
   "cell_type": "code",
   "execution_count": 47,
   "metadata": {},
   "outputs": [
    {
     "data": {
      "text/plain": [
       "rock            9974\n",
       "electronic      4125\n",
       "NaN             2488\n",
       "experimental    2070\n",
       "rap             1825\n",
       "pop/r&b         1581\n",
       "metal            892\n",
       "folk/country     755\n",
       "jazz             509\n",
       "global           273\n",
       "Name: genre, dtype: int64"
      ]
     },
     "execution_count": 47,
     "metadata": {},
     "output_type": "execute_result"
    }
   ],
   "source": [
    "df['genre'].value_counts(dropna=False)"
   ]
  },
  {
   "cell_type": "code",
   "execution_count": 48,
   "metadata": {},
   "outputs": [
    {
     "data": {
      "image/png": "[encoded data removed]",
      "text/plain": [
       "<Figure size 720x360 with 1 Axes>"
      ]
     },
     "metadata": {
      "needs_background": "light"
     },
     "output_type": "display_data"
    }
   ],
   "source": [
    "plt.figure(figsize=(10,5))\n",
    "sns.countplot(df['genre'])\n",
    "plt.show()"
   ]
  },
  {
   "cell_type": "code",
   "execution_count": 49,
   "metadata": {},
   "outputs": [
    {
     "data": {
      "image/png": "[encoded data removed]",
      "text/plain": [
       "<Figure size 720x360 with 1 Axes>"
      ]
     },
     "metadata": {
      "needs_background": "light"
     },
     "output_type": "display_data"
    }
   ],
   "source": [
    "plt.figure(figsize=(10,5))\n",
    "sns.countplot(x='genre',hue='best_new_music',data=df)\n",
    "plt.show()"
   ]
  },
  {
   "cell_type": "markdown",
   "metadata": {},
   "source": [
    "## Labels"
   ]
  },
  {
   "cell_type": "code",
   "execution_count": 50,
   "metadata": {
    "scrolled": true
   },
   "outputs": [
    {
     "data": {
      "text/plain": [
       "44"
      ]
     },
     "execution_count": 50,
     "metadata": {},
     "output_type": "execute_result"
    }
   ],
   "source": [
    "df['label'].isnull().sum()"
   ]
  },
  {
   "cell_type": "code",
   "execution_count": 51,
   "metadata": {
    "scrolled": false
   },
   "outputs": [],
   "source": [
    "df['label'].fillna('None',inplace=True)"
   ]
  },
  {
   "cell_type": "markdown",
   "metadata": {},
   "source": [
    "## Base Model"
   ]
  },
  {
   "cell_type": "code",
   "execution_count": 52,
   "metadata": {},
   "outputs": [
    {
     "data": {
      "text/html": [
       "<div>\n",
       "<style scoped>\n",
       "    .dataframe tbody tr th:only-of-type {\n",
       "        vertical-align: middle;\n",
       "    }\n",
       "\n",
       "    .dataframe tbody tr th {\n",
       "        vertical-align: top;\n",
       "    }\n",
       "\n",
       "    .dataframe thead th {\n",
       "        text-align: right;\n",
       "    }\n",
       "</style>\n",
       "<table border=\"1\" class=\"dataframe\">\n",
       "  <thead>\n",
       "    <tr style=\"text-align: right;\">\n",
       "      <th></th>\n",
       "      <th>score</th>\n",
       "      <th>best_new_music</th>\n",
       "      <th>artist</th>\n",
       "      <th>author_type</th>\n",
       "      <th>pub_month</th>\n",
       "      <th>pub_year</th>\n",
       "      <th>genre</th>\n",
       "      <th>label</th>\n",
       "    </tr>\n",
       "  </thead>\n",
       "  <tbody>\n",
       "    <tr>\n",
       "      <th>23</th>\n",
       "      <td>8.1</td>\n",
       "      <td>0</td>\n",
       "      <td>chance the rapper</td>\n",
       "      <td>associate staff writer</td>\n",
       "      <td>12</td>\n",
       "      <td>2016</td>\n",
       "      <td>pop/r&amp;b</td>\n",
       "      <td>self-released</td>\n",
       "    </tr>\n",
       "    <tr>\n",
       "      <th>24</th>\n",
       "      <td>8.1</td>\n",
       "      <td>0</td>\n",
       "      <td>jeremih</td>\n",
       "      <td>associate staff writer</td>\n",
       "      <td>12</td>\n",
       "      <td>2016</td>\n",
       "      <td>pop/r&amp;b</td>\n",
       "      <td>self-released</td>\n",
       "    </tr>\n",
       "    <tr>\n",
       "      <th>25</th>\n",
       "      <td>8.1</td>\n",
       "      <td>0</td>\n",
       "      <td>chance the rapper</td>\n",
       "      <td>associate staff writer</td>\n",
       "      <td>12</td>\n",
       "      <td>2016</td>\n",
       "      <td>rap</td>\n",
       "      <td>self-released</td>\n",
       "    </tr>\n",
       "    <tr>\n",
       "      <th>26</th>\n",
       "      <td>8.1</td>\n",
       "      <td>0</td>\n",
       "      <td>jeremih</td>\n",
       "      <td>associate staff writer</td>\n",
       "      <td>12</td>\n",
       "      <td>2016</td>\n",
       "      <td>rap</td>\n",
       "      <td>self-released</td>\n",
       "    </tr>\n",
       "    <tr>\n",
       "      <th>27</th>\n",
       "      <td>7.2</td>\n",
       "      <td>0</td>\n",
       "      <td>jamire williams</td>\n",
       "      <td>contributor</td>\n",
       "      <td>12</td>\n",
       "      <td>2016</td>\n",
       "      <td>experimental</td>\n",
       "      <td>leaving</td>\n",
       "    </tr>\n",
       "  </tbody>\n",
       "</table>\n",
       "</div>"
      ],
      "text/plain": [
       "    score  best_new_music             artist             author_type  \\\n",
       "23    8.1               0  chance the rapper  associate staff writer   \n",
       "24    8.1               0            jeremih  associate staff writer   \n",
       "25    8.1               0  chance the rapper  associate staff writer   \n",
       "26    8.1               0            jeremih  associate staff writer   \n",
       "27    7.2               0    jamire williams             contributor   \n",
       "\n",
       "    pub_month  pub_year         genre          label  \n",
       "23         12      2016       pop/r&b  self-released  \n",
       "24         12      2016       pop/r&b  self-released  \n",
       "25         12      2016           rap  self-released  \n",
       "26         12      2016           rap  self-released  \n",
       "27         12      2016  experimental        leaving  "
      ]
     },
     "execution_count": 52,
     "metadata": {},
     "output_type": "execute_result"
    }
   ],
   "source": [
    "df.head()"
   ]
  },
  {
   "cell_type": "code",
   "execution_count": 53,
   "metadata": {
    "scrolled": true
   },
   "outputs": [
    {
     "data": {
      "text/plain": [
       "(24492, 8)"
      ]
     },
     "execution_count": 53,
     "metadata": {},
     "output_type": "execute_result"
    }
   ],
   "source": [
    "## Shape before Dropping\n",
    "df.shape"
   ]
  },
  {
   "cell_type": "code",
   "execution_count": 54,
   "metadata": {},
   "outputs": [
    {
     "data": {
      "text/plain": [
       "['artist', 'author_type', 'genre', 'label']"
      ]
     },
     "execution_count": 54,
     "metadata": {},
     "output_type": "execute_result"
    }
   ],
   "source": [
    "cat_cols=list(df.select_dtypes(include=['object']).columns)\n",
    "cat_cols"
   ]
  },
  {
   "cell_type": "code",
   "execution_count": 55,
   "metadata": {},
   "outputs": [],
   "source": [
    "cols=['author_type','genre']\n",
    "df=pd.get_dummies(df,columns=cols,drop_first=True)"
   ]
  },
  {
   "cell_type": "code",
   "execution_count": 56,
   "metadata": {},
   "outputs": [
    {
     "data": {
      "text/plain": [
       "0"
      ]
     },
     "execution_count": 56,
     "metadata": {},
     "output_type": "execute_result"
    }
   ],
   "source": [
    "df['label'].isnull().sum()"
   ]
  },
  {
   "cell_type": "code",
   "execution_count": 57,
   "metadata": {},
   "outputs": [],
   "source": [
    "\n",
    "from sklearn.preprocessing import LabelEncoder\n",
    "le=LabelEncoder()\n",
    "df['artist']=le.fit_transform(df['artist'])\n",
    "#df['author']=le.fit_transform(df['author'])\n",
    "df['label']=le.fit_transform(df['label'])\n",
    "#df['pub_year']=le.fit_transform(df['pub_year'])"
   ]
  },
  {
   "cell_type": "code",
   "execution_count": 58,
   "metadata": {},
   "outputs": [],
   "source": [
    "#df=df.dropna()"
   ]
  },
  {
   "cell_type": "markdown",
   "metadata": {},
   "source": [
    "### MICE imputer"
   ]
  },
  {
   "cell_type": "code",
   "execution_count": 59,
   "metadata": {},
   "outputs": [
    {
     "data": {
      "text/plain": [
       "'from sklearn.experimental import enable_iterative_imputer\\nfrom sklearn.impute import IterativeImputer\\nimp = IterativeImputer(max_iter=10, random_state=0)'"
      ]
     },
     "execution_count": 59,
     "metadata": {},
     "output_type": "execute_result"
    }
   ],
   "source": [
    "'''from sklearn.experimental import enable_iterative_imputer\n",
    "from sklearn.impute import IterativeImputer\n",
    "imp = IterativeImputer(max_iter=10, random_state=0)'''"
   ]
  },
  {
   "cell_type": "code",
   "execution_count": 60,
   "metadata": {},
   "outputs": [
    {
     "data": {
      "text/plain": [
       "'df=pd.DataFrame(imp.fit_transform(df))'"
      ]
     },
     "execution_count": 60,
     "metadata": {},
     "output_type": "execute_result"
    }
   ],
   "source": [
    "'''df=pd.DataFrame(imp.fit_transform(df))'''"
   ]
  },
  {
   "cell_type": "code",
   "execution_count": null,
   "metadata": {},
   "outputs": [],
   "source": []
  },
  {
   "cell_type": "code",
   "execution_count": 61,
   "metadata": {},
   "outputs": [],
   "source": [
    "## Shape after dropping\n",
    "#df.shape"
   ]
  },
  {
   "cell_type": "code",
   "execution_count": 62,
   "metadata": {
    "scrolled": true
   },
   "outputs": [
    {
     "data": {
      "text/html": [
       "<div>\n",
       "<style scoped>\n",
       "    .dataframe tbody tr th:only-of-type {\n",
       "        vertical-align: middle;\n",
       "    }\n",
       "\n",
       "    .dataframe tbody tr th {\n",
       "        vertical-align: top;\n",
       "    }\n",
       "\n",
       "    .dataframe thead th {\n",
       "        text-align: right;\n",
       "    }\n",
       "</style>\n",
       "<table border=\"1\" class=\"dataframe\">\n",
       "  <thead>\n",
       "    <tr style=\"text-align: right;\">\n",
       "      <th></th>\n",
       "      <th>score</th>\n",
       "      <th>best_new_music</th>\n",
       "      <th>artist</th>\n",
       "      <th>pub_month</th>\n",
       "      <th>pub_year</th>\n",
       "      <th>label</th>\n",
       "      <th>author_type_assistant editor</th>\n",
       "      <th>author_type_associate editor</th>\n",
       "      <th>author_type_associate features editor</th>\n",
       "      <th>author_type_associate reviews editor</th>\n",
       "      <th>...</th>\n",
       "      <th>author_type_senior staff writer</th>\n",
       "      <th>author_type_tracks coordinator</th>\n",
       "      <th>genre_experimental</th>\n",
       "      <th>genre_folk/country</th>\n",
       "      <th>genre_global</th>\n",
       "      <th>genre_jazz</th>\n",
       "      <th>genre_metal</th>\n",
       "      <th>genre_pop/r&amp;b</th>\n",
       "      <th>genre_rap</th>\n",
       "      <th>genre_rock</th>\n",
       "    </tr>\n",
       "  </thead>\n",
       "  <tbody>\n",
       "    <tr>\n",
       "      <th>23</th>\n",
       "      <td>8.1</td>\n",
       "      <td>0</td>\n",
       "      <td>1209</td>\n",
       "      <td>12</td>\n",
       "      <td>2016</td>\n",
       "      <td>2757</td>\n",
       "      <td>0</td>\n",
       "      <td>0</td>\n",
       "      <td>0</td>\n",
       "      <td>0</td>\n",
       "      <td>...</td>\n",
       "      <td>0</td>\n",
       "      <td>0</td>\n",
       "      <td>0</td>\n",
       "      <td>0</td>\n",
       "      <td>0</td>\n",
       "      <td>0</td>\n",
       "      <td>0</td>\n",
       "      <td>1</td>\n",
       "      <td>0</td>\n",
       "      <td>0</td>\n",
       "    </tr>\n",
       "    <tr>\n",
       "      <th>24</th>\n",
       "      <td>8.1</td>\n",
       "      <td>0</td>\n",
       "      <td>3443</td>\n",
       "      <td>12</td>\n",
       "      <td>2016</td>\n",
       "      <td>2757</td>\n",
       "      <td>0</td>\n",
       "      <td>0</td>\n",
       "      <td>0</td>\n",
       "      <td>0</td>\n",
       "      <td>...</td>\n",
       "      <td>0</td>\n",
       "      <td>0</td>\n",
       "      <td>0</td>\n",
       "      <td>0</td>\n",
       "      <td>0</td>\n",
       "      <td>0</td>\n",
       "      <td>0</td>\n",
       "      <td>1</td>\n",
       "      <td>0</td>\n",
       "      <td>0</td>\n",
       "    </tr>\n",
       "    <tr>\n",
       "      <th>25</th>\n",
       "      <td>8.1</td>\n",
       "      <td>0</td>\n",
       "      <td>1209</td>\n",
       "      <td>12</td>\n",
       "      <td>2016</td>\n",
       "      <td>2757</td>\n",
       "      <td>0</td>\n",
       "      <td>0</td>\n",
       "      <td>0</td>\n",
       "      <td>0</td>\n",
       "      <td>...</td>\n",
       "      <td>0</td>\n",
       "      <td>0</td>\n",
       "      <td>0</td>\n",
       "      <td>0</td>\n",
       "      <td>0</td>\n",
       "      <td>0</td>\n",
       "      <td>0</td>\n",
       "      <td>0</td>\n",
       "      <td>1</td>\n",
       "      <td>0</td>\n",
       "    </tr>\n",
       "    <tr>\n",
       "      <th>26</th>\n",
       "      <td>8.1</td>\n",
       "      <td>0</td>\n",
       "      <td>3443</td>\n",
       "      <td>12</td>\n",
       "      <td>2016</td>\n",
       "      <td>2757</td>\n",
       "      <td>0</td>\n",
       "      <td>0</td>\n",
       "      <td>0</td>\n",
       "      <td>0</td>\n",
       "      <td>...</td>\n",
       "      <td>0</td>\n",
       "      <td>0</td>\n",
       "      <td>0</td>\n",
       "      <td>0</td>\n",
       "      <td>0</td>\n",
       "      <td>0</td>\n",
       "      <td>0</td>\n",
       "      <td>0</td>\n",
       "      <td>1</td>\n",
       "      <td>0</td>\n",
       "    </tr>\n",
       "    <tr>\n",
       "      <th>27</th>\n",
       "      <td>7.2</td>\n",
       "      <td>0</td>\n",
       "      <td>3342</td>\n",
       "      <td>12</td>\n",
       "      <td>2016</td>\n",
       "      <td>1786</td>\n",
       "      <td>0</td>\n",
       "      <td>0</td>\n",
       "      <td>0</td>\n",
       "      <td>0</td>\n",
       "      <td>...</td>\n",
       "      <td>0</td>\n",
       "      <td>0</td>\n",
       "      <td>1</td>\n",
       "      <td>0</td>\n",
       "      <td>0</td>\n",
       "      <td>0</td>\n",
       "      <td>0</td>\n",
       "      <td>0</td>\n",
       "      <td>0</td>\n",
       "      <td>0</td>\n",
       "    </tr>\n",
       "  </tbody>\n",
       "</table>\n",
       "<p>5 rows × 29 columns</p>\n",
       "</div>"
      ],
      "text/plain": [
       "    score  best_new_music  artist  pub_month  pub_year  label  \\\n",
       "23    8.1               0    1209         12      2016   2757   \n",
       "24    8.1               0    3443         12      2016   2757   \n",
       "25    8.1               0    1209         12      2016   2757   \n",
       "26    8.1               0    3443         12      2016   2757   \n",
       "27    7.2               0    3342         12      2016   1786   \n",
       "\n",
       "    author_type_assistant editor  author_type_associate editor  \\\n",
       "23                             0                             0   \n",
       "24                             0                             0   \n",
       "25                             0                             0   \n",
       "26                             0                             0   \n",
       "27                             0                             0   \n",
       "\n",
       "    author_type_associate features editor  \\\n",
       "23                                      0   \n",
       "24                                      0   \n",
       "25                                      0   \n",
       "26                                      0   \n",
       "27                                      0   \n",
       "\n",
       "    author_type_associate reviews editor  ...  \\\n",
       "23                                     0  ...   \n",
       "24                                     0  ...   \n",
       "25                                     0  ...   \n",
       "26                                     0  ...   \n",
       "27                                     0  ...   \n",
       "\n",
       "    author_type_senior staff writer  author_type_tracks coordinator  \\\n",
       "23                                0                               0   \n",
       "24                                0                               0   \n",
       "25                                0                               0   \n",
       "26                                0                               0   \n",
       "27                                0                               0   \n",
       "\n",
       "    genre_experimental  genre_folk/country  genre_global  genre_jazz  \\\n",
       "23                   0                   0             0           0   \n",
       "24                   0                   0             0           0   \n",
       "25                   0                   0             0           0   \n",
       "26                   0                   0             0           0   \n",
       "27                   1                   0             0           0   \n",
       "\n",
       "    genre_metal  genre_pop/r&b  genre_rap  genre_rock  \n",
       "23            0              1          0           0  \n",
       "24            0              1          0           0  \n",
       "25            0              0          1           0  \n",
       "26            0              0          1           0  \n",
       "27            0              0          0           0  \n",
       "\n",
       "[5 rows x 29 columns]"
      ]
     },
     "execution_count": 62,
     "metadata": {},
     "output_type": "execute_result"
    }
   ],
   "source": [
    "df.head()"
   ]
  },
  {
   "cell_type": "code",
   "execution_count": 63,
   "metadata": {},
   "outputs": [
    {
     "data": {
      "text/html": [
       "<div>\n",
       "<style scoped>\n",
       "    .dataframe tbody tr th:only-of-type {\n",
       "        vertical-align: middle;\n",
       "    }\n",
       "\n",
       "    .dataframe tbody tr th {\n",
       "        vertical-align: top;\n",
       "    }\n",
       "\n",
       "    .dataframe thead th {\n",
       "        text-align: right;\n",
       "    }\n",
       "</style>\n",
       "<table border=\"1\" class=\"dataframe\">\n",
       "  <thead>\n",
       "    <tr style=\"text-align: right;\">\n",
       "      <th></th>\n",
       "      <th>best_new_music</th>\n",
       "    </tr>\n",
       "  </thead>\n",
       "  <tbody>\n",
       "    <tr>\n",
       "      <th>23</th>\n",
       "      <td>0</td>\n",
       "    </tr>\n",
       "    <tr>\n",
       "      <th>24</th>\n",
       "      <td>0</td>\n",
       "    </tr>\n",
       "    <tr>\n",
       "      <th>25</th>\n",
       "      <td>0</td>\n",
       "    </tr>\n",
       "    <tr>\n",
       "      <th>26</th>\n",
       "      <td>0</td>\n",
       "    </tr>\n",
       "    <tr>\n",
       "      <th>27</th>\n",
       "      <td>0</td>\n",
       "    </tr>\n",
       "    <tr>\n",
       "      <th>...</th>\n",
       "      <td>...</td>\n",
       "    </tr>\n",
       "    <tr>\n",
       "      <th>25801</th>\n",
       "      <td>0</td>\n",
       "    </tr>\n",
       "    <tr>\n",
       "      <th>25802</th>\n",
       "      <td>0</td>\n",
       "    </tr>\n",
       "    <tr>\n",
       "      <th>25803</th>\n",
       "      <td>0</td>\n",
       "    </tr>\n",
       "    <tr>\n",
       "      <th>25804</th>\n",
       "      <td>0</td>\n",
       "    </tr>\n",
       "    <tr>\n",
       "      <th>25805</th>\n",
       "      <td>0</td>\n",
       "    </tr>\n",
       "  </tbody>\n",
       "</table>\n",
       "<p>24492 rows × 1 columns</p>\n",
       "</div>"
      ],
      "text/plain": [
       "       best_new_music\n",
       "23                  0\n",
       "24                  0\n",
       "25                  0\n",
       "26                  0\n",
       "27                  0\n",
       "...               ...\n",
       "25801               0\n",
       "25802               0\n",
       "25803               0\n",
       "25804               0\n",
       "25805               0\n",
       "\n",
       "[24492 rows x 1 columns]"
      ]
     },
     "execution_count": 63,
     "metadata": {},
     "output_type": "execute_result"
    }
   ],
   "source": [
    "df.iloc[:,[1]]"
   ]
  },
  {
   "cell_type": "code",
   "execution_count": 64,
   "metadata": {},
   "outputs": [
    {
     "data": {
      "text/plain": [
       "score                                    0\n",
       "best_new_music                           0\n",
       "artist                                   0\n",
       "pub_month                                0\n",
       "pub_year                                 0\n",
       "label                                    0\n",
       "author_type_assistant editor             0\n",
       "author_type_associate editor             0\n",
       "author_type_associate features editor    0\n",
       "author_type_associate reviews editor     0\n",
       "author_type_associate staff writer       0\n",
       "author_type_contributing editor          0\n",
       "author_type_contributor                  0\n",
       "author_type_deputy news editor           0\n",
       "author_type_editor-in-chief              0\n",
       "author_type_executive editor             0\n",
       "author_type_managing editor              0\n",
       "author_type_news director                0\n",
       "author_type_senior editor                0\n",
       "author_type_senior staff writer          0\n",
       "author_type_tracks coordinator           0\n",
       "genre_experimental                       0\n",
       "genre_folk/country                       0\n",
       "genre_global                             0\n",
       "genre_jazz                               0\n",
       "genre_metal                              0\n",
       "genre_pop/r&b                            0\n",
       "genre_rap                                0\n",
       "genre_rock                               0\n",
       "dtype: int64"
      ]
     },
     "execution_count": 64,
     "metadata": {},
     "output_type": "execute_result"
    }
   ],
   "source": [
    "df.isnull().sum()"
   ]
  },
  {
   "cell_type": "markdown",
   "metadata": {},
   "source": [
    "## Generating X and Y"
   ]
  },
  {
   "cell_type": "code",
   "execution_count": 65,
   "metadata": {},
   "outputs": [],
   "source": [
    "y=df['score']\n",
    "X=df.drop('score',axis=1)"
   ]
  },
  {
   "cell_type": "markdown",
   "metadata": {},
   "source": [
    "## 1. Base Model"
   ]
  },
  {
   "cell_type": "code",
   "execution_count": 66,
   "metadata": {},
   "outputs": [
    {
     "data": {
      "text/html": [
       "<table class=\"simpletable\">\n",
       "<caption>OLS Regression Results</caption>\n",
       "<tr>\n",
       "  <th>Dep. Variable:</th>          <td>score</td>      <th>  R-squared:         </th> <td>   0.145</td> \n",
       "</tr>\n",
       "<tr>\n",
       "  <th>Model:</th>                   <td>OLS</td>       <th>  Adj. R-squared:    </th> <td>   0.144</td> \n",
       "</tr>\n",
       "<tr>\n",
       "  <th>Method:</th>             <td>Least Squares</td>  <th>  F-statistic:       </th> <td>   148.3</td> \n",
       "</tr>\n",
       "<tr>\n",
       "  <th>Date:</th>             <td>Fri, 14 Feb 2020</td> <th>  Prob (F-statistic):</th>  <td>  0.00</td>  \n",
       "</tr>\n",
       "<tr>\n",
       "  <th>Time:</th>                 <td>11:30:10</td>     <th>  Log-Likelihood:    </th> <td> -32972.</td> \n",
       "</tr>\n",
       "<tr>\n",
       "  <th>No. Observations:</th>      <td> 24492</td>      <th>  AIC:               </th> <td>6.600e+04</td>\n",
       "</tr>\n",
       "<tr>\n",
       "  <th>Df Residuals:</th>          <td> 24463</td>      <th>  BIC:               </th> <td>6.624e+04</td>\n",
       "</tr>\n",
       "<tr>\n",
       "  <th>Df Model:</th>              <td>    28</td>      <th>                     </th>     <td> </td>    \n",
       "</tr>\n",
       "<tr>\n",
       "  <th>Covariance Type:</th>      <td>nonrobust</td>    <th>                     </th>     <td> </td>    \n",
       "</tr>\n",
       "</table>\n",
       "<table class=\"simpletable\">\n",
       "<tr>\n",
       "                    <td></td>                       <th>coef</th>     <th>std err</th>      <th>t</th>      <th>P>|t|</th>  <th>[0.025</th>    <th>0.975]</th>  \n",
       "</tr>\n",
       "<tr>\n",
       "  <th>const</th>                                 <td>   54.2319</td> <td>    3.006</td> <td>   18.038</td> <td> 0.000</td> <td>   48.339</td> <td>   60.125</td>\n",
       "</tr>\n",
       "<tr>\n",
       "  <th>best_new_music</th>                        <td>    1.5632</td> <td>    0.027</td> <td>   58.465</td> <td> 0.000</td> <td>    1.511</td> <td>    1.616</td>\n",
       "</tr>\n",
       "<tr>\n",
       "  <th>artist</th>                                <td> 4.833e-06</td> <td> 2.44e-06</td> <td>    1.983</td> <td> 0.047</td> <td> 5.51e-08</td> <td> 9.61e-06</td>\n",
       "</tr>\n",
       "<tr>\n",
       "  <th>pub_month</th>                             <td>    0.0049</td> <td>    0.002</td> <td>    2.705</td> <td> 0.007</td> <td>    0.001</td> <td>    0.008</td>\n",
       "</tr>\n",
       "<tr>\n",
       "  <th>pub_year</th>                              <td>   -0.0236</td> <td>    0.001</td> <td>  -15.721</td> <td> 0.000</td> <td>   -0.027</td> <td>   -0.021</td>\n",
       "</tr>\n",
       "<tr>\n",
       "  <th>label</th>                                 <td> 1.152e-05</td> <td> 5.76e-06</td> <td>    2.001</td> <td> 0.045</td> <td> 2.36e-07</td> <td> 2.28e-05</td>\n",
       "</tr>\n",
       "<tr>\n",
       "  <th>author_type_assistant editor</th>          <td>    0.6032</td> <td>    0.215</td> <td>    2.811</td> <td> 0.005</td> <td>    0.183</td> <td>    1.024</td>\n",
       "</tr>\n",
       "<tr>\n",
       "  <th>author_type_associate editor</th>          <td>   -0.1316</td> <td>    0.128</td> <td>   -1.030</td> <td> 0.303</td> <td>   -0.382</td> <td>    0.119</td>\n",
       "</tr>\n",
       "<tr>\n",
       "  <th>author_type_associate features editor</th> <td>   -0.0588</td> <td>    0.234</td> <td>   -0.252</td> <td> 0.801</td> <td>   -0.517</td> <td>    0.399</td>\n",
       "</tr>\n",
       "<tr>\n",
       "  <th>author_type_associate reviews editor</th>  <td>    0.6651</td> <td>    0.127</td> <td>    5.235</td> <td> 0.000</td> <td>    0.416</td> <td>    0.914</td>\n",
       "</tr>\n",
       "<tr>\n",
       "  <th>author_type_associate staff writer</th>    <td>    0.1309</td> <td>    0.085</td> <td>    1.534</td> <td> 0.125</td> <td>   -0.036</td> <td>    0.298</td>\n",
       "</tr>\n",
       "<tr>\n",
       "  <th>author_type_contributing editor</th>       <td>    0.5622</td> <td>    0.063</td> <td>    8.906</td> <td> 0.000</td> <td>    0.439</td> <td>    0.686</td>\n",
       "</tr>\n",
       "<tr>\n",
       "  <th>author_type_contributor</th>               <td>    0.1080</td> <td>    0.016</td> <td>    6.663</td> <td> 0.000</td> <td>    0.076</td> <td>    0.140</td>\n",
       "</tr>\n",
       "<tr>\n",
       "  <th>author_type_deputy news editor</th>        <td>    0.0748</td> <td>    0.083</td> <td>    0.898</td> <td> 0.369</td> <td>   -0.089</td> <td>    0.238</td>\n",
       "</tr>\n",
       "<tr>\n",
       "  <th>author_type_editor-in-chief</th>           <td>    0.0015</td> <td>    0.084</td> <td>    0.018</td> <td> 0.985</td> <td>   -0.163</td> <td>    0.166</td>\n",
       "</tr>\n",
       "<tr>\n",
       "  <th>author_type_executive editor</th>          <td>    0.2442</td> <td>    0.038</td> <td>    6.344</td> <td> 0.000</td> <td>    0.169</td> <td>    0.320</td>\n",
       "</tr>\n",
       "<tr>\n",
       "  <th>author_type_managing editor</th>           <td>   -0.1737</td> <td>    0.538</td> <td>   -0.323</td> <td> 0.747</td> <td>   -1.228</td> <td>    0.880</td>\n",
       "</tr>\n",
       "<tr>\n",
       "  <th>author_type_news director</th>             <td>    0.6148</td> <td>    0.537</td> <td>    1.144</td> <td> 0.253</td> <td>   -0.439</td> <td>    1.668</td>\n",
       "</tr>\n",
       "<tr>\n",
       "  <th>author_type_senior editor</th>             <td>    0.1092</td> <td>    0.039</td> <td>    2.775</td> <td> 0.006</td> <td>    0.032</td> <td>    0.186</td>\n",
       "</tr>\n",
       "<tr>\n",
       "  <th>author_type_senior staff writer</th>       <td>   -0.1487</td> <td>    0.041</td> <td>   -3.596</td> <td> 0.000</td> <td>   -0.230</td> <td>   -0.068</td>\n",
       "</tr>\n",
       "<tr>\n",
       "  <th>author_type_tracks coordinator</th>        <td>    0.0912</td> <td>    0.127</td> <td>    0.716</td> <td> 0.474</td> <td>   -0.158</td> <td>    0.341</td>\n",
       "</tr>\n",
       "<tr>\n",
       "  <th>genre_experimental</th>                    <td>    0.2147</td> <td>    0.024</td> <td>    9.131</td> <td> 0.000</td> <td>    0.169</td> <td>    0.261</td>\n",
       "</tr>\n",
       "<tr>\n",
       "  <th>genre_folk/country</th>                    <td>    0.1732</td> <td>    0.036</td> <td>    4.824</td> <td> 0.000</td> <td>    0.103</td> <td>    0.244</td>\n",
       "</tr>\n",
       "<tr>\n",
       "  <th>genre_global</th>                          <td>    0.2852</td> <td>    0.058</td> <td>    4.959</td> <td> 0.000</td> <td>    0.172</td> <td>    0.398</td>\n",
       "</tr>\n",
       "<tr>\n",
       "  <th>genre_jazz</th>                            <td>    0.3110</td> <td>    0.043</td> <td>    7.247</td> <td> 0.000</td> <td>    0.227</td> <td>    0.395</td>\n",
       "</tr>\n",
       "<tr>\n",
       "  <th>genre_metal</th>                           <td>    0.1299</td> <td>    0.033</td> <td>    3.898</td> <td> 0.000</td> <td>    0.065</td> <td>    0.195</td>\n",
       "</tr>\n",
       "<tr>\n",
       "  <th>genre_pop/r&b</th>                         <td>   -0.0776</td> <td>    0.026</td> <td>   -2.958</td> <td> 0.003</td> <td>   -0.129</td> <td>   -0.026</td>\n",
       "</tr>\n",
       "<tr>\n",
       "  <th>genre_rap</th>                             <td>   -0.0303</td> <td>    0.025</td> <td>   -1.202</td> <td> 0.229</td> <td>   -0.080</td> <td>    0.019</td>\n",
       "</tr>\n",
       "<tr>\n",
       "  <th>genre_rock</th>                            <td>   -0.0237</td> <td>    0.015</td> <td>   -1.590</td> <td> 0.112</td> <td>   -0.053</td> <td>    0.006</td>\n",
       "</tr>\n",
       "</table>\n",
       "<table class=\"simpletable\">\n",
       "<tr>\n",
       "  <th>Omnibus:</th>       <td>1135.261</td> <th>  Durbin-Watson:     </th> <td>   1.439</td> \n",
       "</tr>\n",
       "<tr>\n",
       "  <th>Prob(Omnibus):</th>  <td> 0.000</td>  <th>  Jarque-Bera (JB):  </th> <td>1297.628</td> \n",
       "</tr>\n",
       "<tr>\n",
       "  <th>Skew:</th>           <td>-0.556</td>  <th>  Prob(JB):          </th> <td>1.67e-282</td>\n",
       "</tr>\n",
       "<tr>\n",
       "  <th>Kurtosis:</th>       <td> 3.188</td>  <th>  Cond. No.          </th> <td>2.80e+06</td> \n",
       "</tr>\n",
       "</table><br/><br/>Warnings:<br/>[1] Standard Errors assume that the covariance matrix of the errors is correctly specified.<br/>[2] The condition number is large, 2.8e+06. This might indicate that there are<br/>strong multicollinearity or other numerical problems."
      ],
      "text/plain": [
       "<class 'statsmodels.iolib.summary.Summary'>\n",
       "\"\"\"\n",
       "                            OLS Regression Results                            \n",
       "==============================================================================\n",
       "Dep. Variable:                  score   R-squared:                       0.145\n",
       "Model:                            OLS   Adj. R-squared:                  0.144\n",
       "Method:                 Least Squares   F-statistic:                     148.3\n",
       "Date:                Fri, 14 Feb 2020   Prob (F-statistic):               0.00\n",
       "Time:                        11:30:10   Log-Likelihood:                -32972.\n",
       "No. Observations:               24492   AIC:                         6.600e+04\n",
       "Df Residuals:                   24463   BIC:                         6.624e+04\n",
       "Df Model:                          28                                         \n",
       "Covariance Type:            nonrobust                                         \n",
       "=========================================================================================================\n",
       "                                            coef    std err          t      P>|t|      [0.025      0.975]\n",
       "---------------------------------------------------------------------------------------------------------\n",
       "const                                    54.2319      3.006     18.038      0.000      48.339      60.125\n",
       "best_new_music                            1.5632      0.027     58.465      0.000       1.511       1.616\n",
       "artist                                 4.833e-06   2.44e-06      1.983      0.047    5.51e-08    9.61e-06\n",
       "pub_month                                 0.0049      0.002      2.705      0.007       0.001       0.008\n",
       "pub_year                                 -0.0236      0.001    -15.721      0.000      -0.027      -0.021\n",
       "label                                  1.152e-05   5.76e-06      2.001      0.045    2.36e-07    2.28e-05\n",
       "author_type_assistant editor              0.6032      0.215      2.811      0.005       0.183       1.024\n",
       "author_type_associate editor             -0.1316      0.128     -1.030      0.303      -0.382       0.119\n",
       "author_type_associate features editor    -0.0588      0.234     -0.252      0.801      -0.517       0.399\n",
       "author_type_associate reviews editor      0.6651      0.127      5.235      0.000       0.416       0.914\n",
       "author_type_associate staff writer        0.1309      0.085      1.534      0.125      -0.036       0.298\n",
       "author_type_contributing editor           0.5622      0.063      8.906      0.000       0.439       0.686\n",
       "author_type_contributor                   0.1080      0.016      6.663      0.000       0.076       0.140\n",
       "author_type_deputy news editor            0.0748      0.083      0.898      0.369      -0.089       0.238\n",
       "author_type_editor-in-chief               0.0015      0.084      0.018      0.985      -0.163       0.166\n",
       "author_type_executive editor              0.2442      0.038      6.344      0.000       0.169       0.320\n",
       "author_type_managing editor              -0.1737      0.538     -0.323      0.747      -1.228       0.880\n",
       "author_type_news director                 0.6148      0.537      1.144      0.253      -0.439       1.668\n",
       "author_type_senior editor                 0.1092      0.039      2.775      0.006       0.032       0.186\n",
       "author_type_senior staff writer          -0.1487      0.041     -3.596      0.000      -0.230      -0.068\n",
       "author_type_tracks coordinator            0.0912      0.127      0.716      0.474      -0.158       0.341\n",
       "genre_experimental                        0.2147      0.024      9.131      0.000       0.169       0.261\n",
       "genre_folk/country                        0.1732      0.036      4.824      0.000       0.103       0.244\n",
       "genre_global                              0.2852      0.058      4.959      0.000       0.172       0.398\n",
       "genre_jazz                                0.3110      0.043      7.247      0.000       0.227       0.395\n",
       "genre_metal                               0.1299      0.033      3.898      0.000       0.065       0.195\n",
       "genre_pop/r&b                            -0.0776      0.026     -2.958      0.003      -0.129      -0.026\n",
       "genre_rap                                -0.0303      0.025     -1.202      0.229      -0.080       0.019\n",
       "genre_rock                               -0.0237      0.015     -1.590      0.112      -0.053       0.006\n",
       "==============================================================================\n",
       "Omnibus:                     1135.261   Durbin-Watson:                   1.439\n",
       "Prob(Omnibus):                  0.000   Jarque-Bera (JB):             1297.628\n",
       "Skew:                          -0.556   Prob(JB):                    1.67e-282\n",
       "Kurtosis:                       3.188   Cond. No.                     2.80e+06\n",
       "==============================================================================\n",
       "\n",
       "Warnings:\n",
       "[1] Standard Errors assume that the covariance matrix of the errors is correctly specified.\n",
       "[2] The condition number is large, 2.8e+06. This might indicate that there are\n",
       "strong multicollinearity or other numerical problems.\n",
       "\"\"\""
      ]
     },
     "execution_count": 66,
     "metadata": {},
     "output_type": "execute_result"
    }
   ],
   "source": [
    "import statsmodels.api as sm\n",
    "xc=sm.add_constant(X)\n",
    "model=sm.OLS(y,xc).fit()\n",
    "model.summary()"
   ]
  },
  {
   "cell_type": "code",
   "execution_count": 67,
   "metadata": {},
   "outputs": [
    {
     "data": {
      "text/plain": [
       "<matplotlib.axes._subplots.AxesSubplot at 0x27590fcb108>"
      ]
     },
     "execution_count": 67,
     "metadata": {},
     "output_type": "execute_result"
    },
    {
     "data": {
      "image/png": "[encoded data removed]",
      "text/plain": [
       "<Figure size 432x288 with 1 Axes>"
      ]
     },
     "metadata": {
      "needs_background": "light"
     },
     "output_type": "display_data"
    }
   ],
   "source": [
    "residuals=model.resid\n",
    "sns.distplot(residuals)"
   ]
  },
  {
   "cell_type": "code",
   "execution_count": 68,
   "metadata": {},
   "outputs": [
    {
     "data": {
      "image/png": "[encoded data removed]",
      "text/plain": [
       "<Figure size 432x288 with 1 Axes>"
      ]
     },
     "metadata": {
      "needs_background": "light"
     },
     "output_type": "display_data"
    }
   ],
   "source": [
    "import scipy.stats as stats\n",
    "stats.probplot(residuals,plot=plt)\n",
    "plt.show()"
   ]
  },
  {
   "cell_type": "markdown",
   "metadata": {},
   "source": [
    "## 2. Model using Backward Elimation method"
   ]
  },
  {
   "cell_type": "code",
   "execution_count": 69,
   "metadata": {},
   "outputs": [
    {
     "name": "stdout",
     "output_type": "stream",
     "text": [
      "['best_new_music', 'artist', 'pub_month', 'pub_year', 'label', 'author_type_assistant editor', 'author_type_associate reviews editor', 'author_type_contributing editor', 'author_type_contributor', 'author_type_executive editor', 'author_type_senior editor', 'author_type_senior staff writer', 'genre_experimental', 'genre_folk/country', 'genre_global', 'genre_jazz', 'genre_metal', 'genre_pop/r&b']\n"
     ]
    }
   ],
   "source": [
    "# Backward Elimination\n",
    "cols=list(X.columns)\n",
    "pmax=1\n",
    "while len(cols)>0:\n",
    "    p=[]\n",
    "    C=X[cols]\n",
    "    xc=sm.add_constant(C)\n",
    "    model=sm.OLS(y,xc).fit()\n",
    "    p=pd.Series(model.pvalues.values[1:],index=cols)\n",
    "    pmax=max(p)\n",
    "    feature_with_p_max=p.idxmax()\n",
    "    if pmax>0.05:\n",
    "        cols.remove(feature_with_p_max)\n",
    "    else:\n",
    "        break\n",
    "        \n",
    "selected_cols=cols\n",
    "print(selected_cols)"
   ]
  },
  {
   "cell_type": "code",
   "execution_count": 70,
   "metadata": {},
   "outputs": [],
   "source": [
    "X_final=df[cols]\n",
    "y=df['score']"
   ]
  },
  {
   "cell_type": "code",
   "execution_count": 71,
   "metadata": {},
   "outputs": [],
   "source": [
    "from sklearn.model_selection import train_test_split\n",
    "from sklearn.linear_model import LinearRegression\n",
    "from sklearn.metrics import r2_score,mean_squared_error as mse\n",
    "X_train,X_test,y_train,y_test=train_test_split(X_final,y,test_size=0.3,random_state=0)"
   ]
  },
  {
   "cell_type": "code",
   "execution_count": 72,
   "metadata": {},
   "outputs": [
    {
     "name": "stdout",
     "output_type": "stream",
     "text": [
      "R2 score of Train: 0.14430543037220545\n",
      "RMSE of Train: 0.9327029524801203\n"
     ]
    }
   ],
   "source": [
    "LR=LinearRegression()\n",
    "LR.fit(X_train,y_train)\n",
    "y_pred_train=LR.predict(X_train)\n",
    "print('R2 score of Train:',r2_score(y_train,y_pred_train))\n",
    "print('RMSE of Train:',np.sqrt(mse(y_train,y_pred_train)))"
   ]
  },
  {
   "cell_type": "code",
   "execution_count": 73,
   "metadata": {},
   "outputs": [
    {
     "name": "stdout",
     "output_type": "stream",
     "text": [
      "R2 score of Test: 0.14474272613390293\n",
      "RMSE of Test: 0.9242594240943467\n"
     ]
    }
   ],
   "source": [
    "y_pred_test=LR.predict(X_test)\n",
    "print('R2 score of Test:',r2_score(y_test,y_pred_test))\n",
    "print('RMSE of Test:',np.sqrt(mse(y_test,y_pred_test)))"
   ]
  },
  {
   "cell_type": "markdown",
   "metadata": {},
   "source": [
    "## 3. K-Fold"
   ]
  },
  {
   "cell_type": "code",
   "execution_count": 74,
   "metadata": {},
   "outputs": [
    {
     "name": "stdout",
     "output_type": "stream",
     "text": [
      "[0.9294702295868941, 0.9232759272101888, 0.9371418205262073, 0.9372243400536454, 0.9266810711602816]\n"
     ]
    }
   ],
   "source": [
    "from sklearn.model_selection import KFold\n",
    "kf = KFold(n_splits=5,shuffle=True,random_state=0)\n",
    "for model,name in zip([LR],['MVLR']):\n",
    "    rmse=[]\n",
    "\n",
    "    for train, test in kf.split(X_final,y):\n",
    "        X_train,X_test=X_final.iloc[train,:],X_final.iloc[test,:]\n",
    "        y_train,y_test=y.iloc[train],y.iloc[test]\n",
    "        model.fit(X_train,y_train)\n",
    "        y_pred=model.predict(X_test)\n",
    "        rmse.append(np.sqrt(mse(y_test,y_pred)))\n",
    "print(rmse)"
   ]
  },
  {
   "cell_type": "code",
   "execution_count": 75,
   "metadata": {},
   "outputs": [
    {
     "data": {
      "text/plain": [
       "(0.9307586777074434, 3.92069576341998e-05)"
      ]
     },
     "execution_count": 75,
     "metadata": {},
     "output_type": "execute_result"
    }
   ],
   "source": [
    "np.mean(rmse),np.var(rmse,ddof=1)\n"
   ]
  },
  {
   "cell_type": "markdown",
   "metadata": {},
   "source": [
    "### 4.Lasso/Ridge/ElasticNet"
   ]
  },
  {
   "cell_type": "markdown",
   "metadata": {},
   "source": [
    "## 4.1 Lasso"
   ]
  },
  {
   "cell_type": "code",
   "execution_count": 76,
   "metadata": {},
   "outputs": [],
   "source": [
    "from sklearn.linear_model import Lasso,LassoCV\n",
    "lasso=Lasso(alpha=0.04,normalize=True)"
   ]
  },
  {
   "cell_type": "code",
   "execution_count": 77,
   "metadata": {},
   "outputs": [],
   "source": [
    "X_final=df[cols]\n",
    "y=df['score']\n",
    "X_train,X_test,y_train,y_test=train_test_split(X_final,y,test_size=0.3,random_state=0)"
   ]
  },
  {
   "cell_type": "code",
   "execution_count": 78,
   "metadata": {},
   "outputs": [
    {
     "name": "stdout",
     "output_type": "stream",
     "text": [
      "R2 score of Train: 0.0\n",
      "RMSE of Train: 1.0082865258703986\n"
     ]
    }
   ],
   "source": [
    "lasso.fit(X_train,y_train)\n",
    "y_pred_train=lasso.predict(X_train)\n",
    "print('R2 score of Train:',r2_score(y_train,y_pred_train))\n",
    "print('RMSE of Train:',np.sqrt(mse(y_train,y_pred_train)))"
   ]
  },
  {
   "cell_type": "code",
   "execution_count": 79,
   "metadata": {
    "scrolled": true
   },
   "outputs": [
    {
     "name": "stdout",
     "output_type": "stream",
     "text": [
      "R2 score of Test: -0.0005452640909751061\n",
      "RMSE of Test: 0.9996865972261615\n"
     ]
    }
   ],
   "source": [
    "y_pred_test=lasso.predict(X_test)\n",
    "print('R2 score of Test:',r2_score(y_test,y_pred_test))\n",
    "print('RMSE of Test:',np.sqrt(mse(y_test,y_pred_test)))"
   ]
  },
  {
   "cell_type": "code",
   "execution_count": 80,
   "metadata": {},
   "outputs": [
    {
     "data": {
      "image/png": "[encoded data removed]",
      "text/plain": [
       "<Figure size 432x288 with 1 Axes>"
      ]
     },
     "metadata": {
      "needs_background": "light"
     },
     "output_type": "display_data"
    }
   ],
   "source": [
    "n_alphas = 50\n",
    "alphas = np.linspace(0.1,4.5, n_alphas)\n",
    "coefs=[]\n",
    "lasso = Lasso()\n",
    "for a in alphas:\n",
    "    lasso.set_params(alpha=a)\n",
    "    lasso.fit(X, y)\n",
    "    coefs.append(lasso.coef_)\n",
    "    \n",
    "plt.plot(alphas, coefs)\n",
    "plt.xlabel('alphas')\n",
    "plt.ylabel('coefs')\n",
    "plt.show()"
   ]
  },
  {
   "cell_type": "code",
   "execution_count": 81,
   "metadata": {},
   "outputs": [
    {
     "data": {
      "text/plain": [
       "LassoCV(alphas=array([0.1       , 0.11836735, 0.13673469, 0.15510204, 0.17346939,\n",
       "       0.19183673, 0.21020408, 0.22857143, 0.24693878, 0.26530612,\n",
       "       0.28367347, 0.30204082, 0.32040816, 0.33877551, 0.35714286,\n",
       "       0.3755102 , 0.39387755, 0.4122449 , 0.43061224, 0.44897959,\n",
       "       0.46734694, 0.48571429, 0.50408163, 0.52244898, 0.54081633,\n",
       "       0.55918367, 0.57755102, 0.59591837, 0.61428571, 0.63265306,\n",
       "       0.65102...\n",
       "       0.74285714, 0.76122449, 0.77959184, 0.79795918, 0.81632653,\n",
       "       0.83469388, 0.85306122, 0.87142857, 0.88979592, 0.90816327,\n",
       "       0.92653061, 0.94489796, 0.96326531, 0.98163265, 1.        ]),\n",
       "        copy_X=True, cv=3, eps=0.001, fit_intercept=True, max_iter=1000,\n",
       "        n_alphas=100, n_jobs=None, normalize=False, positive=False,\n",
       "        precompute='auto', random_state=22, selection='cyclic', tol=0.0001,\n",
       "        verbose=False)"
      ]
     },
     "execution_count": 81,
     "metadata": {},
     "output_type": "execute_result"
    }
   ],
   "source": [
    "n_alphas=50\n",
    "alphas=np.linspace(0.1,1, n_alphas)\n",
    "\n",
    "lasso_cv = LassoCV(alphas=alphas, cv=3, random_state=22)\n",
    "lasso_cv.fit(X,y)"
   ]
  },
  {
   "cell_type": "code",
   "execution_count": 82,
   "metadata": {},
   "outputs": [
    {
     "data": {
      "text/plain": [
       "0.2653061224489796"
      ]
     },
     "execution_count": 82,
     "metadata": {},
     "output_type": "execute_result"
    }
   ],
   "source": [
    "lasso_cv.alpha_"
   ]
  },
  {
   "cell_type": "code",
   "execution_count": 83,
   "metadata": {},
   "outputs": [
    {
     "data": {
      "text/html": [
       "<div>\n",
       "<style scoped>\n",
       "    .dataframe tbody tr th:only-of-type {\n",
       "        vertical-align: middle;\n",
       "    }\n",
       "\n",
       "    .dataframe tbody tr th {\n",
       "        vertical-align: top;\n",
       "    }\n",
       "\n",
       "    .dataframe thead th {\n",
       "        text-align: right;\n",
       "    }\n",
       "</style>\n",
       "<table border=\"1\" class=\"dataframe\">\n",
       "  <thead>\n",
       "    <tr style=\"text-align: right;\">\n",
       "      <th></th>\n",
       "      <th>coefs</th>\n",
       "    </tr>\n",
       "  </thead>\n",
       "  <tbody>\n",
       "    <tr>\n",
       "      <th>best_new_music</th>\n",
       "      <td>0.000000</td>\n",
       "    </tr>\n",
       "    <tr>\n",
       "      <th>artist</th>\n",
       "      <td>0.000005</td>\n",
       "    </tr>\n",
       "    <tr>\n",
       "      <th>pub_month</th>\n",
       "      <td>0.000000</td>\n",
       "    </tr>\n",
       "    <tr>\n",
       "      <th>pub_year</th>\n",
       "      <td>-0.000000</td>\n",
       "    </tr>\n",
       "    <tr>\n",
       "      <th>label</th>\n",
       "      <td>0.000008</td>\n",
       "    </tr>\n",
       "    <tr>\n",
       "      <th>author_type_assistant editor</th>\n",
       "      <td>0.000000</td>\n",
       "    </tr>\n",
       "    <tr>\n",
       "      <th>author_type_associate reviews editor</th>\n",
       "      <td>0.000000</td>\n",
       "    </tr>\n",
       "    <tr>\n",
       "      <th>author_type_contributing editor</th>\n",
       "      <td>0.000000</td>\n",
       "    </tr>\n",
       "    <tr>\n",
       "      <th>author_type_contributor</th>\n",
       "      <td>0.000000</td>\n",
       "    </tr>\n",
       "    <tr>\n",
       "      <th>author_type_executive editor</th>\n",
       "      <td>0.000000</td>\n",
       "    </tr>\n",
       "    <tr>\n",
       "      <th>author_type_senior editor</th>\n",
       "      <td>0.000000</td>\n",
       "    </tr>\n",
       "    <tr>\n",
       "      <th>author_type_senior staff writer</th>\n",
       "      <td>-0.000000</td>\n",
       "    </tr>\n",
       "    <tr>\n",
       "      <th>genre_experimental</th>\n",
       "      <td>0.000000</td>\n",
       "    </tr>\n",
       "    <tr>\n",
       "      <th>genre_folk/country</th>\n",
       "      <td>0.000000</td>\n",
       "    </tr>\n",
       "    <tr>\n",
       "      <th>genre_global</th>\n",
       "      <td>0.000000</td>\n",
       "    </tr>\n",
       "    <tr>\n",
       "      <th>genre_jazz</th>\n",
       "      <td>0.000000</td>\n",
       "    </tr>\n",
       "    <tr>\n",
       "      <th>genre_metal</th>\n",
       "      <td>0.000000</td>\n",
       "    </tr>\n",
       "    <tr>\n",
       "      <th>genre_pop/r&amp;b</th>\n",
       "      <td>-0.000000</td>\n",
       "    </tr>\n",
       "  </tbody>\n",
       "</table>\n",
       "</div>"
      ],
      "text/plain": [
       "                                         coefs\n",
       "best_new_music                        0.000000\n",
       "artist                                0.000005\n",
       "pub_month                             0.000000\n",
       "pub_year                             -0.000000\n",
       "label                                 0.000008\n",
       "author_type_assistant editor          0.000000\n",
       "author_type_associate reviews editor  0.000000\n",
       "author_type_contributing editor       0.000000\n",
       "author_type_contributor               0.000000\n",
       "author_type_executive editor          0.000000\n",
       "author_type_senior editor             0.000000\n",
       "author_type_senior staff writer      -0.000000\n",
       "genre_experimental                    0.000000\n",
       "genre_folk/country                    0.000000\n",
       "genre_global                          0.000000\n",
       "genre_jazz                            0.000000\n",
       "genre_metal                           0.000000\n",
       "genre_pop/r&b                        -0.000000"
      ]
     },
     "execution_count": 83,
     "metadata": {},
     "output_type": "execute_result"
    }
   ],
   "source": [
    "lasso = Lasso(alpha=lasso_cv.alpha_)\n",
    "lasso.fit(X_train, y_train)\n",
    "lasso.coef_\n",
    "pd.DataFrame(lasso.coef_, X_final.columns, columns=['coefs'])"
   ]
  },
  {
   "cell_type": "code",
   "execution_count": 84,
   "metadata": {},
   "outputs": [
    {
     "name": "stdout",
     "output_type": "stream",
     "text": [
      "R2 score of Train: 0.00022078667543723451\n",
      "RMSE of Train: 1.0081752116109155\n"
     ]
    }
   ],
   "source": [
    "y_pred_train=lasso.predict(X_train)\n",
    "print('R2 score of Train:',r2_score(y_train,y_pred_train))\n",
    "print('RMSE of Train:',np.sqrt(mse(y_train,y_pred_train)))"
   ]
  },
  {
   "cell_type": "code",
   "execution_count": 85,
   "metadata": {},
   "outputs": [
    {
     "name": "stdout",
     "output_type": "stream",
     "text": [
      "R2 score of Test: -0.0006151094480690844\n",
      "RMSE of Test: 0.9997214893251833\n"
     ]
    }
   ],
   "source": [
    "y_pred_test=lasso.predict(X_test)\n",
    "print('R2 score of Test:',r2_score(y_test,y_pred_test))\n",
    "print('RMSE of Test:',np.sqrt(mse(y_test,y_pred_test)))"
   ]
  },
  {
   "cell_type": "markdown",
   "metadata": {},
   "source": [
    "### 4.2 Ridge"
   ]
  },
  {
   "cell_type": "code",
   "execution_count": 86,
   "metadata": {},
   "outputs": [],
   "source": [
    "from sklearn.linear_model import Ridge,RidgeCV\n",
    "ridge=Ridge(alpha=0.05)"
   ]
  },
  {
   "cell_type": "code",
   "execution_count": 87,
   "metadata": {},
   "outputs": [
    {
     "name": "stdout",
     "output_type": "stream",
     "text": [
      "R2 score of Train: 0.14389931895882546\n",
      "RMSE of Train: 0.9329242559662783\n"
     ]
    }
   ],
   "source": [
    "ridge.fit(X_train,y_train)\n",
    "y_pred_train=model.predict(X_train)\n",
    "print('R2 score of Train:',r2_score(y_train,y_pred_train))\n",
    "print('RMSE of Train:',np.sqrt(mse(y_train,y_pred_train)))"
   ]
  },
  {
   "cell_type": "code",
   "execution_count": 88,
   "metadata": {
    "scrolled": true
   },
   "outputs": [
    {
     "name": "stdout",
     "output_type": "stream",
     "text": [
      "R2 score of Test: 0.14474325132236643\n",
      "RMSE of Test: 0.9242591403139708\n"
     ]
    }
   ],
   "source": [
    "y_pred_test=ridge.predict(X_test)\n",
    "print('R2 score of Test:',r2_score(y_test,y_pred_test))\n",
    "print('RMSE of Test:',np.sqrt(mse(y_test,y_pred_test)))"
   ]
  },
  {
   "cell_type": "code",
   "execution_count": 89,
   "metadata": {},
   "outputs": [
    {
     "data": {
      "text/html": [
       "<div>\n",
       "<style scoped>\n",
       "    .dataframe tbody tr th:only-of-type {\n",
       "        vertical-align: middle;\n",
       "    }\n",
       "\n",
       "    .dataframe tbody tr th {\n",
       "        vertical-align: top;\n",
       "    }\n",
       "\n",
       "    .dataframe thead th {\n",
       "        text-align: right;\n",
       "    }\n",
       "</style>\n",
       "<table border=\"1\" class=\"dataframe\">\n",
       "  <thead>\n",
       "    <tr style=\"text-align: right;\">\n",
       "      <th></th>\n",
       "      <th>coefs</th>\n",
       "    </tr>\n",
       "  </thead>\n",
       "  <tbody>\n",
       "    <tr>\n",
       "      <th>best_new_music</th>\n",
       "      <td>1.563147</td>\n",
       "    </tr>\n",
       "    <tr>\n",
       "      <th>artist</th>\n",
       "      <td>0.000005</td>\n",
       "    </tr>\n",
       "    <tr>\n",
       "      <th>pub_month</th>\n",
       "      <td>0.004868</td>\n",
       "    </tr>\n",
       "    <tr>\n",
       "      <th>pub_year</th>\n",
       "      <td>-0.023563</td>\n",
       "    </tr>\n",
       "    <tr>\n",
       "      <th>label</th>\n",
       "      <td>0.000012</td>\n",
       "    </tr>\n",
       "    <tr>\n",
       "      <th>author_type_assistant editor</th>\n",
       "      <td>0.601523</td>\n",
       "    </tr>\n",
       "    <tr>\n",
       "      <th>author_type_associate editor</th>\n",
       "      <td>-0.131566</td>\n",
       "    </tr>\n",
       "    <tr>\n",
       "      <th>author_type_associate features editor</th>\n",
       "      <td>-0.058663</td>\n",
       "    </tr>\n",
       "    <tr>\n",
       "      <th>author_type_associate reviews editor</th>\n",
       "      <td>0.664468</td>\n",
       "    </tr>\n",
       "    <tr>\n",
       "      <th>author_type_associate staff writer</th>\n",
       "      <td>0.130845</td>\n",
       "    </tr>\n",
       "    <tr>\n",
       "      <th>author_type_contributing editor</th>\n",
       "      <td>0.562083</td>\n",
       "    </tr>\n",
       "    <tr>\n",
       "      <th>author_type_contributor</th>\n",
       "      <td>0.107982</td>\n",
       "    </tr>\n",
       "    <tr>\n",
       "      <th>author_type_deputy news editor</th>\n",
       "      <td>0.074698</td>\n",
       "    </tr>\n",
       "    <tr>\n",
       "      <th>author_type_editor-in-chief</th>\n",
       "      <td>0.001520</td>\n",
       "    </tr>\n",
       "    <tr>\n",
       "      <th>author_type_executive editor</th>\n",
       "      <td>0.244184</td>\n",
       "    </tr>\n",
       "    <tr>\n",
       "      <th>author_type_managing editor</th>\n",
       "      <td>-0.170892</td>\n",
       "    </tr>\n",
       "    <tr>\n",
       "      <th>author_type_news director</th>\n",
       "      <td>0.604730</td>\n",
       "    </tr>\n",
       "    <tr>\n",
       "      <th>author_type_senior editor</th>\n",
       "      <td>0.109149</td>\n",
       "    </tr>\n",
       "    <tr>\n",
       "      <th>author_type_senior staff writer</th>\n",
       "      <td>-0.148750</td>\n",
       "    </tr>\n",
       "    <tr>\n",
       "      <th>author_type_tracks coordinator</th>\n",
       "      <td>0.091021</td>\n",
       "    </tr>\n",
       "    <tr>\n",
       "      <th>genre_experimental</th>\n",
       "      <td>0.214715</td>\n",
       "    </tr>\n",
       "    <tr>\n",
       "      <th>genre_folk/country</th>\n",
       "      <td>0.173142</td>\n",
       "    </tr>\n",
       "    <tr>\n",
       "      <th>genre_global</th>\n",
       "      <td>0.285161</td>\n",
       "    </tr>\n",
       "    <tr>\n",
       "      <th>genre_jazz</th>\n",
       "      <td>0.310927</td>\n",
       "    </tr>\n",
       "    <tr>\n",
       "      <th>genre_metal</th>\n",
       "      <td>0.129871</td>\n",
       "    </tr>\n",
       "    <tr>\n",
       "      <th>genre_pop/r&amp;b</th>\n",
       "      <td>-0.077592</td>\n",
       "    </tr>\n",
       "    <tr>\n",
       "      <th>genre_rap</th>\n",
       "      <td>-0.030278</td>\n",
       "    </tr>\n",
       "    <tr>\n",
       "      <th>genre_rock</th>\n",
       "      <td>-0.023730</td>\n",
       "    </tr>\n",
       "  </tbody>\n",
       "</table>\n",
       "</div>"
      ],
      "text/plain": [
       "                                          coefs\n",
       "best_new_music                         1.563147\n",
       "artist                                 0.000005\n",
       "pub_month                              0.004868\n",
       "pub_year                              -0.023563\n",
       "label                                  0.000012\n",
       "author_type_assistant editor           0.601523\n",
       "author_type_associate editor          -0.131566\n",
       "author_type_associate features editor -0.058663\n",
       "author_type_associate reviews editor   0.664468\n",
       "author_type_associate staff writer     0.130845\n",
       "author_type_contributing editor        0.562083\n",
       "author_type_contributor                0.107982\n",
       "author_type_deputy news editor         0.074698\n",
       "author_type_editor-in-chief            0.001520\n",
       "author_type_executive editor           0.244184\n",
       "author_type_managing editor           -0.170892\n",
       "author_type_news director              0.604730\n",
       "author_type_senior editor              0.109149\n",
       "author_type_senior staff writer       -0.148750\n",
       "author_type_tracks coordinator         0.091021\n",
       "genre_experimental                     0.214715\n",
       "genre_folk/country                     0.173142\n",
       "genre_global                           0.285161\n",
       "genre_jazz                             0.310927\n",
       "genre_metal                            0.129871\n",
       "genre_pop/r&b                         -0.077592\n",
       "genre_rap                             -0.030278\n",
       "genre_rock                            -0.023730"
      ]
     },
     "execution_count": 89,
     "metadata": {},
     "output_type": "execute_result"
    }
   ],
   "source": [
    "ridge.fit(X, y)\n",
    "ridge.coef_\n",
    "pd.DataFrame(ridge.coef_, X.columns, columns=['coefs'])"
   ]
  },
  {
   "cell_type": "code",
   "execution_count": 90,
   "metadata": {},
   "outputs": [
    {
     "data": {
      "image/png": "[encoded data removed]",
      "text/plain": [
       "<Figure size 432x288 with 1 Axes>"
      ]
     },
     "metadata": {
      "needs_background": "light"
     },
     "output_type": "display_data"
    }
   ],
   "source": [
    "n_alphas = 200\n",
    "alphas = np.logspace(-3, 2, n_alphas)\n",
    "coefs=[]\n",
    "model = Ridge()\n",
    "for a in alphas:\n",
    "    model.set_params(alpha=a)\n",
    "    model.fit(X, y)\n",
    "    coefs.append(model.coef_)\n",
    "    \n",
    "plt.plot(alphas, coefs)\n",
    "plt.xlabel('alphas')\n",
    "plt.ylabel('coefs')\n",
    "plt.show()"
   ]
  },
  {
   "cell_type": "code",
   "execution_count": 91,
   "metadata": {},
   "outputs": [
    {
     "data": {
      "text/plain": [
       "1.0"
      ]
     },
     "execution_count": 91,
     "metadata": {},
     "output_type": "execute_result"
    }
   ],
   "source": [
    "n_alphas = 1000\n",
    "alphas = np.logspace(-2, 0)\n",
    "\n",
    "ridge_cv = RidgeCV(alphas=alphas, store_cv_values=True)\n",
    "ridge_cv.fit(X, y)\n",
    "\n",
    "ridge_cv.alpha_"
   ]
  },
  {
   "cell_type": "code",
   "execution_count": 92,
   "metadata": {},
   "outputs": [
    {
     "data": {
      "text/plain": [
       "Ridge(alpha=1.0, copy_X=True, fit_intercept=True, max_iter=None,\n",
       "      normalize=False, random_state=None, solver='auto', tol=0.001)"
      ]
     },
     "execution_count": 92,
     "metadata": {},
     "output_type": "execute_result"
    }
   ],
   "source": [
    "ridge=Ridge(alpha=ridge_cv.alpha_)\n",
    "ridge.fit(X_train,y_train)"
   ]
  },
  {
   "cell_type": "code",
   "execution_count": 93,
   "metadata": {},
   "outputs": [
    {
     "name": "stdout",
     "output_type": "stream",
     "text": [
      "R2 score of Train: 0.1443030886417922\n",
      "RMSE of Train: 0.9327042287166734\n"
     ]
    }
   ],
   "source": [
    "y_pred_train=ridge.predict(X_train)\n",
    "print('R2 score of Train:',r2_score(y_train,y_pred_train))\n",
    "print('RMSE of Train:',np.sqrt(mse(y_train,y_pred_train)))"
   ]
  },
  {
   "cell_type": "code",
   "execution_count": 94,
   "metadata": {},
   "outputs": [
    {
     "name": "stdout",
     "output_type": "stream",
     "text": [
      "R2 score of Test: 0.14475092451479\n",
      "RMSE of Test: 0.9242549941706337\n"
     ]
    }
   ],
   "source": [
    "y_pred_test=ridge.predict(X_test)\n",
    "print('R2 score of Test:',r2_score(y_test,y_pred_test))\n",
    "print('RMSE of Test:',np.sqrt(mse(y_test,y_pred_test)))"
   ]
  },
  {
   "cell_type": "markdown",
   "metadata": {},
   "source": [
    "### 4.3 Elastic Net/Elastic Net CV"
   ]
  },
  {
   "cell_type": "code",
   "execution_count": 95,
   "metadata": {},
   "outputs": [
    {
     "data": {
      "text/plain": [
       "ElasticNet(alpha=0.1, copy_X=True, fit_intercept=True, l1_ratio=0.5,\n",
       "           max_iter=1000, normalize=False, positive=False, precompute=False,\n",
       "           random_state=None, selection='cyclic', tol=0.0001, warm_start=False)"
      ]
     },
     "execution_count": 95,
     "metadata": {},
     "output_type": "execute_result"
    }
   ],
   "source": [
    "from sklearn.linear_model import ElasticNet, ElasticNetCV\n",
    "enet = ElasticNet(alpha=0.1)\n",
    "enet.fit(X_train, y_train)"
   ]
  },
  {
   "cell_type": "code",
   "execution_count": 96,
   "metadata": {},
   "outputs": [
    {
     "name": "stdout",
     "output_type": "stream",
     "text": [
      "R2 score of Train: 0.04565025094379305\n",
      "RMSE of Train: 0.9850034358791212\n"
     ]
    }
   ],
   "source": [
    "y_pred_train=enet.predict(X_train)\n",
    "print('R2 score of Train:',r2_score(y_train,y_pred_train))\n",
    "print('RMSE of Train:',np.sqrt(mse(y_train,y_pred_train)))"
   ]
  },
  {
   "cell_type": "code",
   "execution_count": 97,
   "metadata": {},
   "outputs": [
    {
     "name": "stdout",
     "output_type": "stream",
     "text": [
      "R2 score of Test: 0.04553441886372367\n",
      "RMSE of Test: 0.9763951988615229\n"
     ]
    }
   ],
   "source": [
    "y_pred_test=enet.predict(X_test)\n",
    "print('R2 score of Test:',r2_score(y_test,y_pred_test))\n",
    "print('RMSE of Test:',np.sqrt(mse(y_test,y_pred_test)))"
   ]
  },
  {
   "cell_type": "code",
   "execution_count": 98,
   "metadata": {},
   "outputs": [
    {
     "data": {
      "text/html": [
       "<div>\n",
       "<style scoped>\n",
       "    .dataframe tbody tr th:only-of-type {\n",
       "        vertical-align: middle;\n",
       "    }\n",
       "\n",
       "    .dataframe tbody tr th {\n",
       "        vertical-align: top;\n",
       "    }\n",
       "\n",
       "    .dataframe thead th {\n",
       "        text-align: right;\n",
       "    }\n",
       "</style>\n",
       "<table border=\"1\" class=\"dataframe\">\n",
       "  <thead>\n",
       "    <tr style=\"text-align: right;\">\n",
       "      <th></th>\n",
       "      <th>coefs</th>\n",
       "    </tr>\n",
       "  </thead>\n",
       "  <tbody>\n",
       "    <tr>\n",
       "      <th>best_new_music</th>\n",
       "      <td>0.295396</td>\n",
       "    </tr>\n",
       "    <tr>\n",
       "      <th>artist</th>\n",
       "      <td>0.000005</td>\n",
       "    </tr>\n",
       "    <tr>\n",
       "      <th>pub_month</th>\n",
       "      <td>0.003786</td>\n",
       "    </tr>\n",
       "    <tr>\n",
       "      <th>pub_year</th>\n",
       "      <td>-0.010764</td>\n",
       "    </tr>\n",
       "    <tr>\n",
       "      <th>label</th>\n",
       "      <td>0.000009</td>\n",
       "    </tr>\n",
       "    <tr>\n",
       "      <th>author_type_assistant editor</th>\n",
       "      <td>0.000000</td>\n",
       "    </tr>\n",
       "    <tr>\n",
       "      <th>author_type_associate reviews editor</th>\n",
       "      <td>0.000000</td>\n",
       "    </tr>\n",
       "    <tr>\n",
       "      <th>author_type_contributing editor</th>\n",
       "      <td>0.000000</td>\n",
       "    </tr>\n",
       "    <tr>\n",
       "      <th>author_type_contributor</th>\n",
       "      <td>0.000000</td>\n",
       "    </tr>\n",
       "    <tr>\n",
       "      <th>author_type_executive editor</th>\n",
       "      <td>0.000000</td>\n",
       "    </tr>\n",
       "    <tr>\n",
       "      <th>author_type_senior editor</th>\n",
       "      <td>0.000000</td>\n",
       "    </tr>\n",
       "    <tr>\n",
       "      <th>author_type_senior staff writer</th>\n",
       "      <td>-0.000000</td>\n",
       "    </tr>\n",
       "    <tr>\n",
       "      <th>genre_experimental</th>\n",
       "      <td>0.000000</td>\n",
       "    </tr>\n",
       "    <tr>\n",
       "      <th>genre_folk/country</th>\n",
       "      <td>0.000000</td>\n",
       "    </tr>\n",
       "    <tr>\n",
       "      <th>genre_global</th>\n",
       "      <td>0.000000</td>\n",
       "    </tr>\n",
       "    <tr>\n",
       "      <th>genre_jazz</th>\n",
       "      <td>0.000000</td>\n",
       "    </tr>\n",
       "    <tr>\n",
       "      <th>genre_metal</th>\n",
       "      <td>0.000000</td>\n",
       "    </tr>\n",
       "    <tr>\n",
       "      <th>genre_pop/r&amp;b</th>\n",
       "      <td>-0.000000</td>\n",
       "    </tr>\n",
       "  </tbody>\n",
       "</table>\n",
       "</div>"
      ],
      "text/plain": [
       "                                         coefs\n",
       "best_new_music                        0.295396\n",
       "artist                                0.000005\n",
       "pub_month                             0.003786\n",
       "pub_year                             -0.010764\n",
       "label                                 0.000009\n",
       "author_type_assistant editor          0.000000\n",
       "author_type_associate reviews editor  0.000000\n",
       "author_type_contributing editor       0.000000\n",
       "author_type_contributor               0.000000\n",
       "author_type_executive editor          0.000000\n",
       "author_type_senior editor             0.000000\n",
       "author_type_senior staff writer      -0.000000\n",
       "genre_experimental                    0.000000\n",
       "genre_folk/country                    0.000000\n",
       "genre_global                          0.000000\n",
       "genre_jazz                            0.000000\n",
       "genre_metal                           0.000000\n",
       "genre_pop/r&b                        -0.000000"
      ]
     },
     "execution_count": 98,
     "metadata": {},
     "output_type": "execute_result"
    }
   ],
   "source": [
    "pd.DataFrame(enet.coef_, X_final.columns, columns=['coefs'])"
   ]
  },
  {
   "cell_type": "code",
   "execution_count": 99,
   "metadata": {},
   "outputs": [
    {
     "data": {
      "image/png": "[encoded data removed]",
      "text/plain": [
       "<Figure size 432x288 with 1 Axes>"
      ]
     },
     "metadata": {
      "needs_background": "light"
     },
     "output_type": "display_data"
    }
   ],
   "source": [
    "n_alphas = 200\n",
    "alphas = np.logspace(-3, -1, n_alphas)\n",
    "coefs=[]\n",
    "enet = ElasticNet()\n",
    "for a in alphas:\n",
    "    enet.set_params(alpha=a)\n",
    "    enet.fit(X_final, y)\n",
    "    coefs.append(model.coef_)\n",
    "    \n",
    "plt.plot(alphas, coefs)\n",
    "plt.xlabel('alphas')\n",
    "plt.ylabel('coefs')\n",
    "plt.show()"
   ]
  },
  {
   "cell_type": "code",
   "execution_count": 100,
   "metadata": {},
   "outputs": [
    {
     "data": {
      "text/plain": [
       "0.001"
      ]
     },
     "execution_count": 100,
     "metadata": {},
     "output_type": "execute_result"
    }
   ],
   "source": [
    "n_alphas = 2000\n",
    "alphas = np.logspace(-3, 1, n_alphas)\n",
    "\n",
    "en_cv = ElasticNetCV(alphas=alphas, cv=3)\n",
    "en_cv.fit(X_final, y)\n",
    "en_cv.alpha_"
   ]
  },
  {
   "cell_type": "code",
   "execution_count": 101,
   "metadata": {},
   "outputs": [
    {
     "data": {
      "text/plain": [
       "ElasticNet(alpha=0.001, copy_X=True, fit_intercept=True, l1_ratio=0.5,\n",
       "           max_iter=1000, normalize=False, positive=False, precompute=False,\n",
       "           random_state=None, selection='cyclic', tol=0.0001, warm_start=False)"
      ]
     },
     "execution_count": 101,
     "metadata": {},
     "output_type": "execute_result"
    }
   ],
   "source": [
    "enet = ElasticNet(alpha=en_cv.alpha_)\n",
    "enet.fit(X_train,y_train)"
   ]
  },
  {
   "cell_type": "code",
   "execution_count": 102,
   "metadata": {},
   "outputs": [
    {
     "name": "stdout",
     "output_type": "stream",
     "text": [
      "R2 score of Train: 0.1435346227564701\n",
      "RMSE of Train: 0.9331229462102174\n"
     ]
    }
   ],
   "source": [
    "y_pred_train=enet.predict(X_train)\n",
    "print('R2 score of Train:',r2_score(y_train,y_pred_train))\n",
    "print('RMSE of Train:',np.sqrt(mse(y_train,y_pred_train)))"
   ]
  },
  {
   "cell_type": "code",
   "execution_count": 103,
   "metadata": {},
   "outputs": [
    {
     "name": "stdout",
     "output_type": "stream",
     "text": [
      "R2 score of Test: 0.1442754003324922\n",
      "RMSE of Test: 0.9245119044309903\n"
     ]
    }
   ],
   "source": [
    "y_pred_test=enet.predict(X_test)\n",
    "print('R2 score of Test:',r2_score(y_test,y_pred_test))\n",
    "print('RMSE of Test:',np.sqrt(mse(y_test,y_pred_test)))"
   ]
  },
  {
   "cell_type": "markdown",
   "metadata": {},
   "source": [
    "### 5 Decision Tree"
   ]
  },
  {
   "cell_type": "code",
   "execution_count": 104,
   "metadata": {},
   "outputs": [],
   "source": [
    "from sklearn.tree import DecisionTreeRegressor\n",
    "dtr=DecisionTreeRegressor(max_depth=6,max_leaf_nodes=10)\n"
   ]
  },
  {
   "cell_type": "code",
   "execution_count": 105,
   "metadata": {
    "scrolled": true
   },
   "outputs": [
    {
     "data": {
      "text/plain": [
       "DecisionTreeRegressor(ccp_alpha=0.0, criterion='mse', max_depth=6,\n",
       "                      max_features=None, max_leaf_nodes=10,\n",
       "                      min_impurity_decrease=0.0, min_impurity_split=None,\n",
       "                      min_samples_leaf=1, min_samples_split=2,\n",
       "                      min_weight_fraction_leaf=0.0, presort='deprecated',\n",
       "                      random_state=None, splitter='best')"
      ]
     },
     "execution_count": 105,
     "metadata": {},
     "output_type": "execute_result"
    }
   ],
   "source": [
    "dtr.fit(X_train,y_train)"
   ]
  },
  {
   "cell_type": "code",
   "execution_count": 106,
   "metadata": {},
   "outputs": [
    {
     "name": "stdout",
     "output_type": "stream",
     "text": [
      "R2 score of Train: 0.14666176758992255\n",
      "RMSE of Train: 0.9314178690831162\n"
     ]
    }
   ],
   "source": [
    "y_pred_train=dtr.predict(X_train)\n",
    "print('R2 score of Train:',r2_score(y_train,y_pred_train))\n",
    "print('RMSE of Train:',np.sqrt(mse(y_train,y_pred_train)))"
   ]
  },
  {
   "cell_type": "code",
   "execution_count": 107,
   "metadata": {},
   "outputs": [
    {
     "name": "stdout",
     "output_type": "stream",
     "text": [
      "R2 score of Test: 0.14389222494186404\n",
      "RMSE of Test: 0.9247188697108801\n"
     ]
    }
   ],
   "source": [
    "y_pred_test=dtr.predict(X_test)\n",
    "print('R2 score of Test:',r2_score(y_test,y_pred_test))\n",
    "print('RMSE of Test:',np.sqrt(mse(y_test,y_pred_test)))"
   ]
  },
  {
   "cell_type": "markdown",
   "metadata": {},
   "source": [
    "### 6. Random Forest"
   ]
  },
  {
   "cell_type": "code",
   "execution_count": 108,
   "metadata": {},
   "outputs": [],
   "source": [
    "from sklearn.ensemble import RandomForestRegressor\n",
    "rfr=RandomForestRegressor()"
   ]
  },
  {
   "cell_type": "code",
   "execution_count": 109,
   "metadata": {},
   "outputs": [
    {
     "data": {
      "text/plain": [
       "RandomForestRegressor(bootstrap=True, ccp_alpha=0.0, criterion='mse',\n",
       "                      max_depth=None, max_features='auto', max_leaf_nodes=None,\n",
       "                      max_samples=None, min_impurity_decrease=0.0,\n",
       "                      min_impurity_split=None, min_samples_leaf=1,\n",
       "                      min_samples_split=2, min_weight_fraction_leaf=0.0,\n",
       "                      n_estimators=100, n_jobs=None, oob_score=False,\n",
       "                      random_state=None, verbose=0, warm_start=False)"
      ]
     },
     "execution_count": 109,
     "metadata": {},
     "output_type": "execute_result"
    }
   ],
   "source": [
    "rfr.fit(X_train,y_train)"
   ]
  },
  {
   "cell_type": "code",
   "execution_count": 110,
   "metadata": {},
   "outputs": [
    {
     "name": "stdout",
     "output_type": "stream",
     "text": [
      "R2 score of Train: 0.898223548897644\n",
      "RMSE of Train: 0.32166781953790363\n"
     ]
    }
   ],
   "source": [
    "y_pred_train=rfr.predict(X_train)\n",
    "print('R2 score of Train:',r2_score(y_train,y_pred_train))\n",
    "print('RMSE of Train:',np.sqrt(mse(y_train,y_pred_train)))"
   ]
  },
  {
   "cell_type": "code",
   "execution_count": 111,
   "metadata": {},
   "outputs": [
    {
     "name": "stdout",
     "output_type": "stream",
     "text": [
      "R2 score of Test: 0.2850066717559496\n",
      "RMSE of Test: 0.8450774125225143\n"
     ]
    }
   ],
   "source": [
    "y_pred_test=rfr.predict(X_test)\n",
    "print('R2 score of Test:',r2_score(y_test,y_pred_test))\n",
    "print('RMSE of Test:',np.sqrt(mse(y_test,y_pred_test)))"
   ]
  },
  {
   "cell_type": "code",
   "execution_count": 112,
   "metadata": {
    "scrolled": false
   },
   "outputs": [
    {
     "data": {
      "text/plain": [
       "array([1.19976280e-01, 3.07215391e-01, 1.31012647e-01, 1.07155247e-01,\n",
       "       2.62404585e-01, 9.41150448e-05, 5.27746510e-04, 2.91405153e-03,\n",
       "       1.65684660e-02, 5.47224355e-03, 5.40748485e-03, 5.75547327e-03,\n",
       "       6.34079282e-03, 5.28237350e-03, 2.71714522e-03, 4.59428322e-03,\n",
       "       5.60221005e-03, 1.09594652e-02])"
      ]
     },
     "execution_count": 112,
     "metadata": {},
     "output_type": "execute_result"
    }
   ],
   "source": [
    "rfr.feature_importances_"
   ]
  },
  {
   "cell_type": "code",
   "execution_count": 113,
   "metadata": {},
   "outputs": [
    {
     "data": {
      "text/plain": [
       "<matplotlib.axes._subplots.AxesSubplot at 0x27590634608>"
      ]
     },
     "execution_count": 113,
     "metadata": {},
     "output_type": "execute_result"
    },
    {
     "data": {
      "image/png": "[encoded data removed]",
      "text/plain": [
       "<Figure size 1440x360 with 1 Axes>"
      ]
     },
     "metadata": {
      "needs_background": "light"
     },
     "output_type": "display_data"
    }
   ],
   "source": [
    "plt.figure(figsize=(20,5))\n",
    "sns.barplot(x=X_final.columns,y=rfr.feature_importances_)"
   ]
  },
  {
   "cell_type": "markdown",
   "metadata": {},
   "source": [
    "### 7. KNN"
   ]
  },
  {
   "cell_type": "code",
   "execution_count": 114,
   "metadata": {},
   "outputs": [],
   "source": [
    "from sklearn.neighbors import KNeighborsRegressor\n",
    "knnr=KNeighborsRegressor(n_neighbors=5)"
   ]
  },
  {
   "cell_type": "code",
   "execution_count": 115,
   "metadata": {},
   "outputs": [
    {
     "name": "stdout",
     "output_type": "stream",
     "text": [
      "R2 score of Train: 0.327520013873004\n",
      "RMSE of Train: 0.8268441259306946\n"
     ]
    }
   ],
   "source": [
    "knnr.fit(X_train,y_train)\n",
    "y_pred_train=knnr.predict(X_train)\n",
    "print('R2 score of Train:',r2_score(y_train,y_pred_train))\n",
    "print('RMSE of Train:',np.sqrt(mse(y_train,y_pred_train)))"
   ]
  },
  {
   "cell_type": "code",
   "execution_count": 116,
   "metadata": {},
   "outputs": [
    {
     "name": "stdout",
     "output_type": "stream",
     "text": [
      "R2 score of Test: -0.045345405373053316\n",
      "RMSE of Test: 1.0218223711016667\n"
     ]
    }
   ],
   "source": [
    "y_pred_test=knnr.predict(X_test)\n",
    "print('R2 score of Test:',r2_score(y_test,y_pred_test))\n",
    "print('RMSE of Test:',np.sqrt(mse(y_test,y_pred_test)))"
   ]
  },
  {
   "cell_type": "markdown",
   "metadata": {},
   "source": [
    "### 8. Bayesian Ridge"
   ]
  },
  {
   "cell_type": "code",
   "execution_count": 117,
   "metadata": {},
   "outputs": [],
   "source": [
    "from sklearn.linear_model import BayesianRidge\n",
    "bay=BayesianRidge()"
   ]
  },
  {
   "cell_type": "code",
   "execution_count": 118,
   "metadata": {},
   "outputs": [
    {
     "data": {
      "text/plain": [
       "BayesianRidge(alpha_1=1e-06, alpha_2=1e-06, alpha_init=None,\n",
       "              compute_score=False, copy_X=True, fit_intercept=True,\n",
       "              lambda_1=1e-06, lambda_2=1e-06, lambda_init=None, n_iter=300,\n",
       "              normalize=False, tol=0.001, verbose=False)"
      ]
     },
     "execution_count": 118,
     "metadata": {},
     "output_type": "execute_result"
    }
   ],
   "source": [
    "bay.fit(X_train,y_train)"
   ]
  },
  {
   "cell_type": "code",
   "execution_count": 119,
   "metadata": {},
   "outputs": [
    {
     "name": "stdout",
     "output_type": "stream",
     "text": [
      "R2 score of Train: 0.1442744429519328\n",
      "RMSE of Train: 0.9327198403965276\n"
     ]
    }
   ],
   "source": [
    "y_pred_train=bay.predict(X_train)\n",
    "print('R2 score of Train:',r2_score(y_train,y_pred_train))\n",
    "print('RMSE of Train:',np.sqrt(mse(y_train,y_pred_train)))"
   ]
  },
  {
   "cell_type": "code",
   "execution_count": 120,
   "metadata": {},
   "outputs": [
    {
     "name": "stdout",
     "output_type": "stream",
     "text": [
      "R2 score of Test: 0.14475270488281777\n",
      "RMSE of Test: 0.9242540321614691\n"
     ]
    }
   ],
   "source": [
    "y_pred_test=bay.predict(X_test)\n",
    "print('R2 score of Test:',r2_score(y_test,y_pred_test))\n",
    "print('RMSE of Test:',np.sqrt(mse(y_test,y_pred_test)))"
   ]
  },
  {
   "cell_type": "markdown",
   "metadata": {},
   "source": [
    "### 9. Bagging"
   ]
  },
  {
   "cell_type": "code",
   "execution_count": 121,
   "metadata": {},
   "outputs": [],
   "source": [
    "from sklearn.ensemble import BaggingRegressor\n",
    "baggr_lr=BaggingRegressor(base_estimator=LinearRegression())"
   ]
  },
  {
   "cell_type": "code",
   "execution_count": 122,
   "metadata": {},
   "outputs": [
    {
     "name": "stdout",
     "output_type": "stream",
     "text": [
      "R2 score of Train: 0.14420269459057988\n",
      "RMSE of Train: 0.9327589415527955\n"
     ]
    }
   ],
   "source": [
    "baggr_lr.fit(X_train,y_train)\n",
    "y_pred_train=baggr_lr.predict(X_train)\n",
    "print('R2 score of Train:',r2_score(y_train,y_pred_train))\n",
    "print('RMSE of Train:',np.sqrt(mse(y_train,y_pred_train)))"
   ]
  },
  {
   "cell_type": "code",
   "execution_count": 123,
   "metadata": {},
   "outputs": [
    {
     "name": "stdout",
     "output_type": "stream",
     "text": [
      "R2 score of Test: 0.14449247448596825\n",
      "RMSE of Test: 0.9243946351787216\n"
     ]
    }
   ],
   "source": [
    "y_pred_test=baggr_lr.predict(X_test)\n",
    "print('R2 score of Test:',r2_score(y_test,y_pred_test))\n",
    "print('RMSE of Test:',np.sqrt(mse(y_test,y_pred_test)))"
   ]
  },
  {
   "cell_type": "code",
   "execution_count": 124,
   "metadata": {},
   "outputs": [
    {
     "name": "stdout",
     "output_type": "stream",
     "text": [
      "R2 score of Train: 0.8600424552043073\n",
      "RMSE of Train: 0.37720906513947394\n"
     ]
    }
   ],
   "source": [
    "baggr_dt=BaggingRegressor(base_estimator=DecisionTreeRegressor())\n",
    "baggr_dt.fit(X_train,y_train)\n",
    "y_pred_train=baggr_dt.predict(X_train)\n",
    "print('R2 score of Train:',r2_score(y_train,y_pred_train))\n",
    "print('RMSE of Train:',np.sqrt(mse(y_train,y_pred_train)))"
   ]
  },
  {
   "cell_type": "code",
   "execution_count": 125,
   "metadata": {},
   "outputs": [
    {
     "name": "stdout",
     "output_type": "stream",
     "text": [
      "R2 score of Test: 0.21393772336734673\n",
      "RMSE of Test: 0.8860821272088143\n"
     ]
    }
   ],
   "source": [
    "y_pred_test=baggr_dt.predict(X_test)\n",
    "print('R2 score of Test:',r2_score(y_test,y_pred_test))\n",
    "print('RMSE of Test:',np.sqrt(mse(y_test,y_pred_test)))"
   ]
  },
  {
   "cell_type": "code",
   "execution_count": 126,
   "metadata": {},
   "outputs": [
    {
     "name": "stdout",
     "output_type": "stream",
     "text": [
      "R2 score of Train: 0.3591404471873433\n",
      "RMSE of Train: 0.8071707111445124\n"
     ]
    }
   ],
   "source": [
    "baggr_knn=BaggingRegressor(base_estimator=KNeighborsRegressor(n_neighbors=5))\n",
    "baggr_knn.fit(X_train,y_train)\n",
    "y_pred_train=baggr_knn.predict(X_train)\n",
    "print('R2 score of Train:',r2_score(y_train,y_pred_train))\n",
    "print('RMSE of Train:',np.sqrt(mse(y_train,y_pred_train)))"
   ]
  },
  {
   "cell_type": "code",
   "execution_count": 127,
   "metadata": {},
   "outputs": [
    {
     "name": "stdout",
     "output_type": "stream",
     "text": [
      "R2 score of Test: -0.011574730548879364\n",
      "RMSE of Test: 1.005181496027683\n"
     ]
    }
   ],
   "source": [
    "y_pred_test=baggr_knn.predict(X_test)\n",
    "print('R2 score of Test:',r2_score(y_test,y_pred_test))\n",
    "print('RMSE of Test:',np.sqrt(mse(y_test,y_pred_test)))"
   ]
  },
  {
   "cell_type": "markdown",
   "metadata": {},
   "source": [
    "### 10. Boosting"
   ]
  },
  {
   "cell_type": "code",
   "execution_count": 128,
   "metadata": {},
   "outputs": [
    {
     "name": "stdout",
     "output_type": "stream",
     "text": [
      "R2 score of Train: 0.12288470912962357\n",
      "RMSE of Train: 0.9443050335645706\n"
     ]
    }
   ],
   "source": [
    "from sklearn.ensemble import AdaBoostRegressor\n",
    "ada=AdaBoostRegressor(base_estimator=LinearRegression())\n",
    "ada.fit(X_train,y_train)\n",
    "y_pred_train=ada.predict(X_train)\n",
    "print('R2 score of Train:',r2_score(y_train,y_pred_train))\n",
    "print('RMSE of Train:',np.sqrt(mse(y_train,y_pred_train)))"
   ]
  },
  {
   "cell_type": "code",
   "execution_count": 129,
   "metadata": {},
   "outputs": [
    {
     "name": "stdout",
     "output_type": "stream",
     "text": [
      "R2 score of Test: 0.11816441205617156\n",
      "RMSE of Test: 0.9385108763651665\n"
     ]
    }
   ],
   "source": [
    "y_pred_test=ada.predict(X_test)\n",
    "print('R2 score of Test:',r2_score(y_test,y_pred_test))\n",
    "print('RMSE of Test:',np.sqrt(mse(y_test,y_pred_test)))"
   ]
  },
  {
   "cell_type": "code",
   "execution_count": 130,
   "metadata": {},
   "outputs": [
    {
     "name": "stdout",
     "output_type": "stream",
     "text": [
      "R2 score of Train: 0.10799950832586258\n",
      "RMSE of Train: 0.9522840503426713\n"
     ]
    }
   ],
   "source": [
    "ada=AdaBoostRegressor(base_estimator=DecisionTreeRegressor(max_depth=1))\n",
    "ada.fit(X_train,y_train)\n",
    "y_pred_train=ada.predict(X_train)\n",
    "print('R2 score of Train:',r2_score(y_train,y_pred_train))\n",
    "print('RMSE of Train:',np.sqrt(mse(y_train,y_pred_train)))"
   ]
  },
  {
   "cell_type": "code",
   "execution_count": 131,
   "metadata": {},
   "outputs": [
    {
     "name": "stdout",
     "output_type": "stream",
     "text": [
      "R2 score of Test: 0.10425824076578971\n",
      "RMSE of Test: 0.9458818888172508\n"
     ]
    }
   ],
   "source": [
    "y_pred_test=ada.predict(X_test)\n",
    "print('R2 score of Test:',r2_score(y_test,y_pred_test))\n",
    "print('RMSE of Test:',np.sqrt(mse(y_test,y_pred_test)))"
   ]
  }
 ],
 "metadata": {
  "kernelspec": {
   "display_name": "Python 3",
   "language": "python",
   "name": "python3"
  },
  "language_info": {
   "codemirror_mode": {
    "name": "ipython",
    "version": 3
   },
   "file_extension": ".py",
   "mimetype": "text/x-python",
   "name": "python",
   "nbconvert_exporter": "python",
   "pygments_lexer": "ipython3",
   "version": "3.7.7"
  }
 },
 "nbformat": 4,
 "nbformat_minor": 2
}
